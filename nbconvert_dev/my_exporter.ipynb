{
 "cells": [
  {
   "cell_type": "code",
   "execution_count": 14,
   "id": "590a7c85",
   "metadata": {},
   "outputs": [],
   "source": [
    "import re\n",
    "\n",
    "from nbconvert.preprocessors import Preprocessor\n",
    "from traitlets import Bool, List, Unicode\n",
    "\n",
    "\n",
    "class StringsToMetaDataGroupPreprocessor(Preprocessor):\n",
    "    strings = List(Unicode(), default_value=[]).tag(config=True)\n",
    "    prefix = Unicode(default_value=\"#\").tag(config=True)\n",
    "    metadata_group = Unicode(default_value=\"tags\").tag(config=True)\n",
    "    remove_line = Bool(default_value=True).tag(config=True)\n",
    "\n",
    "    def _write_pattern_as_tag(self, pattern, cell):\n",
    "        m = pattern.search(cell.source)\n",
    "        if m is not None:\n",
    "            tag = m.group(1)\n",
    "            tags = cell.setdefault(\"metadata\", {}).setdefault(self.metadata_group, [])\n",
    "            if tag not in tags:\n",
    "                tags.append(tag)\n",
    "            cell[\"metadata\"][self.metadata_group] = tags\n",
    "        return cell\n",
    "\n",
    "    def _build_regex_patterns(self):\n",
    "        prefix = re.escape(self.prefix)\n",
    "        escaped_strings = [re.escape(s) for s in self.strings]\n",
    "        patterns = [\n",
    "            re.compile(\n",
    "                rf\"\"\"\n",
    "                ^ # match start of each line\n",
    "                \\s*{prefix}\\s* # allow whitespace before and after prefix\n",
    "                ({string}) # pattern to capture\n",
    "                \\s* # allow any number of whitespaces after command\n",
    "                $ # match end of each line (excludes \\n in MULTILINE)\n",
    "                [\\r\\n]* # Capture current and all following empty newlines\n",
    "            \"\"\",\n",
    "                re.VERBOSE | re.MULTILINE,\n",
    "            )\n",
    "            for string in escaped_strings\n",
    "        ]\n",
    "        return patterns\n",
    "\n",
    "    def preprocess_cell(self, cell, resource, index):\n",
    "        if cell[\"cell_type\"] == \"markdown\":\n",
    "            return\n",
    "        for pattern in self._build_regex_patterns():\n",
    "            cell = self._write_pattern_as_tag(pattern, cell)\n",
    "            if self.remove_line:\n",
    "                cell.source = pattern.sub(\"\", cell.source)\n",
    "        return cell, resource"
   ]
  },
  {
   "cell_type": "code",
   "execution_count": 15,
   "id": "91937c26-7011-4323-a71c-6d8109f57d10",
   "metadata": {},
   "outputs": [],
   "source": [
    "import nbconvert\n",
    "import nbformat\n",
    "import traitlets\n",
    "from nbconvert.exporters.html import HTMLExporter"
   ]
  },
  {
   "cell_type": "code",
   "execution_count": 22,
   "id": "02cf28b8",
   "metadata": {},
   "outputs": [
    {
     "data": {
      "text/plain": [
       "{'nbformat': 4,\n",
       " 'nbformat_minor': 5,\n",
       " 'metadata': {},\n",
       " 'cells': [{'id': '6800ebfe',\n",
       "   'cell_type': 'code',\n",
       "   'metadata': {},\n",
       "   'execution_count': None,\n",
       "   'source': '# hide\\nimport os',\n",
       "   'outputs': []}]}"
      ]
     },
     "execution_count": 22,
     "metadata": {},
     "output_type": "execute_result"
    }
   ],
   "source": [
    "nb = nbformat.v4.new_notebook()\n",
    "nb.cells.append(nbformat.v4.new_code_cell(\"# hide\\nimport os\"))\n",
    "nb"
   ]
  },
  {
   "cell_type": "code",
   "execution_count": 26,
   "id": "8cb6f8d3",
   "metadata": {},
   "outputs": [],
   "source": [
    "nb, _ = StringsToMetaDataGroupPreprocessor(strings=(\"hide\",), prefix=\"#\").preprocess(\n",
    "    nb, None\n",
    ")\n",
    "assert nb.cells[0][\"source\"] == \"import os\"\n",
    "assert nb.cells[0][\"metadata\"][\"tags\"][0] == \"hide\""
   ]
  },
  {
   "cell_type": "markdown",
   "id": "b0e3c4c6",
   "metadata": {},
   "source": [
    "TODO:\n",
    "- Write some serious tests\n",
    "    - hypothesis would be awesome!\n",
    "- Add some small documentation"
   ]
  },
  {
   "cell_type": "markdown",
   "id": "c90406bb",
   "metadata": {},
   "source": [
    "# Blocknote to shortcode"
   ]
  },
  {
   "cell_type": "code",
   "execution_count": 38,
   "id": "891c5026-5bd6-4390-ab5a-d71e195aefa8",
   "metadata": {},
   "outputs": [],
   "source": [
    "sc_name = \"warning\""
   ]
  },
  {
   "cell_type": "code",
   "execution_count": 50,
   "id": "72875de0",
   "metadata": {},
   "outputs": [],
   "source": [
    "class ConvertBlockNotesToShortCodes(Preprocessor):\n",
    "    short_code_names = List(Unicode(), default_value=[]).tag(config=True)\n",
    "\n",
    "    def _pattern_to_short_code(self, pattern, cell):\n",
    "        cell.source = pattern.sub(r\"{{% \\1 %}}\\2{{% /\\1 %}}\", cell.source)\n",
    "        return cell\n",
    "\n",
    "    def _build_regex_patterns(self):\n",
    "        escaped_sc_names = [re.escape(s) for s in self.short_code_names]\n",
    "        patterns = [\n",
    "            re.compile(\n",
    "                rf\"\"\"\n",
    "                ^\\s*>\\s*     # allow whitespaces before and after >\n",
    "                ({sc_name})      # Short-code name\n",
    "                :\\s*         # : then any number of whitespace\n",
    "                ([^\\n]*)     # Catching group for anything but a new line character\n",
    "                (?:\\n|$)     # Non-catching group for either a new line or the end of the text\n",
    "                \"\"\", re.VERBOSE | re.MULTILINE\n",
    "            )\n",
    "            for sc_name in escaped_sc_names\n",
    "        ]\n",
    "        return patterns\n",
    "\n",
    "    def preprocess_cell(self, cell, resource, index):\n",
    "        if cell.cell_type != \"markdown\":\n",
    "            return\n",
    "        for pattern in self._build_regex_patterns():\n",
    "            cell = self._pattern_to_short_code(pattern, cell)\n",
    "        return cell, resource"
   ]
  },
  {
   "cell_type": "code",
   "execution_count": 51,
   "id": "85c6c924-085b-42fa-8d37-8163737bb1c0",
   "metadata": {},
   "outputs": [
    {
     "data": {
      "text/plain": [
       "{'nbformat': 4,\n",
       " 'nbformat_minor': 5,\n",
       " 'metadata': {},\n",
       " 'cells': [{'id': 'f3a17e22',\n",
       "   'cell_type': 'markdown',\n",
       "   'source': '> warning: This is a warning',\n",
       "   'metadata': {}}]}"
      ]
     },
     "execution_count": 51,
     "metadata": {},
     "output_type": "execute_result"
    }
   ],
   "source": [
    "nb = nbformat.v4.new_notebook()\n",
    "nb.cells.append(nbformat.v4.new_markdown_cell(\"> warning: This is a warning\"))\n",
    "nb"
   ]
  },
  {
   "cell_type": "code",
   "execution_count": 55,
   "id": "5042937a-af47-42e5-86a5-2681cb938c2f",
   "metadata": {},
   "outputs": [
    {
     "data": {
      "text/plain": [
       "{'nbformat': 4,\n",
       " 'nbformat_minor': 5,\n",
       " 'metadata': {},\n",
       " 'cells': [{'id': 'f3a17e22',\n",
       "   'cell_type': 'markdown',\n",
       "   'source': '{{% warning %}}This is a warning{{% /warning %}}',\n",
       "   'metadata': {}}]}"
      ]
     },
     "execution_count": 55,
     "metadata": {},
     "output_type": "execute_result"
    }
   ],
   "source": [
    "nb, _ = ConvertBlockNotesToShortCodes(short_code_names=[\"warning\"]).preprocess(\n",
    "    nb, None\n",
    ")\n",
    "assert nb.cells[0][\"source\"] == r\"{{% warning %}}This is a warning{{% /warning %}}\"\n",
    "nb"
   ]
  },
  {
   "cell_type": "code",
   "execution_count": null,
   "id": "8b2a6618-37bb-47d7-9ec1-d19c3c4df891",
   "metadata": {},
   "outputs": [],
   "source": []
  },
  {
   "cell_type": "markdown",
   "id": "83b63001",
   "metadata": {},
   "source": [
    "## Tag to Collapsible Hide"
   ]
  },
  {
   "cell_type": "code",
   "execution_count": null,
   "id": "b668a9f7-877a-4589-80c2-4b0e6ae9887d",
   "metadata": {},
   "outputs": [],
   "source": []
  },
  {
   "cell_type": "code",
   "execution_count": 72,
   "id": "55af36dc",
   "metadata": {},
   "outputs": [],
   "source": [
    "from nbconvert.preprocessors import TagRemovePreprocessor"
   ]
  },
  {
   "cell_type": "code",
   "execution_count": null,
   "id": "5d3f4ecc",
   "metadata": {},
   "outputs": [],
   "source": []
  }
 ],
 "metadata": {
  "kernelspec": {
   "display_name": "Python 3",
   "language": "python",
   "name": "python3"
  },
  "language_info": {
   "codemirror_mode": {
    "name": "ipython",
    "version": 3
   },
   "file_extension": ".py",
   "mimetype": "text/x-python",
   "name": "python",
   "nbconvert_exporter": "python",
   "pygments_lexer": "ipython3",
   "version": "3.8.8"
  }
 },
 "nbformat": 4,
 "nbformat_minor": 5
}
