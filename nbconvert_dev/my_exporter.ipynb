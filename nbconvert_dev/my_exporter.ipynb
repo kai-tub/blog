{
 "cells": [
  {
   "cell_type": "code",
   "execution_count": 1,
   "id": "054f13b0-82c2-4325-8916-662abf2189e1",
   "metadata": {},
   "outputs": [],
   "source": [
    "import nbconvert\n",
    "import traitlets\n",
    "import nbformat\n",
    "from nbconvert.exporters.html import HTMLExporter\n",
    "from nbconvert.preprocessors import Preprocessor"
   ]
  },
  {
   "cell_type": "code",
   "execution_count": 2,
   "id": "9d132514-9e90-47fb-ba9c-cd5855b85170",
   "metadata": {},
   "outputs": [],
   "source": [
    "import re\n",
    "\n",
    "from traitlets import List, Unicode, Bool\n",
    "\n",
    "\n",
    "class StringsToMetaDataGroupPreprocessor(Preprocessor):\n",
    "    # Do with capturing group\n",
    "    strings = List(Unicode(), default_value=[]).tag(config=True)\n",
    "    prefix = Unicode(default_value=\"#\").tag(config=True)\n",
    "    comment = Unicode().tag(config=True)\n",
    "    metadata_group = Unicode(default_value=\"tags\").tag(config=True)\n",
    "    remove_line = Bool(default_value=True).tag(config=True)\n",
    "\n",
    "    def _write_pattern_as_tag(self, pattern, cell):\n",
    "        m = pattern.search(cell.source)\n",
    "        if m is not None:\n",
    "            tag = m.group(1)\n",
    "            tags = cell.setdefault(\"metadata\", {}).setdefault(self.metadata_group, [])\n",
    "            if tag not in tags:\n",
    "                tags.append(tag)\n",
    "            cell[\"metadata\"][self.metadata_group] = tags\n",
    "        return cell\n",
    "    \n",
    "    def _build_regex_patterns(self):\n",
    "        prefix = re.escape(self.prefix)\n",
    "        escaped_strings = [re.escape(s) for s in self.strings]\n",
    "        patterns = [\n",
    "            re.compile(\n",
    "                rf\"\"\"\n",
    "                # {self.comment}\n",
    "                ^ # match start of each line\n",
    "                \\s*{prefix}\\s* # allow whitespace before and after prefix\n",
    "                ({string}) # pattern to capture\n",
    "                \\s* # allow any number of whitespaces after command\n",
    "                $ # match end of each line (excludes \\n in MULTILINE)\n",
    "                [\\r\\n]* # Capture current and all following empty newlines\n",
    "            \"\"\",\n",
    "                re.VERBOSE | re.MULTILINE,\n",
    "            )\n",
    "            for string in escaped_strings\n",
    "        ]\n",
    "        return patterns\n",
    "\n",
    "    def preprocess_cell(self, cell, resource, index):\n",
    "        # maybe only check code\n",
    "        for pattern in self._build_regex_patterns():\n",
    "            cell = self._write_pattern_as_tag(pattern, cell)\n",
    "            if self.remove_line:\n",
    "                cell.source = pattern.sub(\"\", cell.source)\n",
    "        return cell, resource"
   ]
  },
  {
   "cell_type": "code",
   "execution_count": 3,
   "id": "f07c64cf-809f-4999-a84f-8cc1f4651c78",
   "metadata": {},
   "outputs": [],
   "source": [
    "nb = nbformat.from_dict({\"cell_type\": \"markdown\", \"metadata\": {}, \"source\": \"# hide\\nThis is the next line\"})"
   ]
  },
  {
   "cell_type": "code",
   "execution_count": 4,
   "id": "90100e97-879e-4d8e-b975-4339cbcde260",
   "metadata": {},
   "outputs": [
    {
     "data": {
      "text/plain": [
       "{'nbformat': 4,\n",
       " 'nbformat_minor': 5,\n",
       " 'metadata': {},\n",
       " 'cells': [{'id': 'd019fa34',\n",
       "   'cell_type': 'markdown',\n",
       "   'source': '# hide\\nThis is the next line',\n",
       "   'metadata': {}}]}"
      ]
     },
     "execution_count": 4,
     "metadata": {},
     "output_type": "execute_result"
    }
   ],
   "source": [
    "nb = nbformat.v4.new_notebook()\n",
    "nb.cells.append(nbformat.v4.new_markdown_cell(\"# hide\\nThis is the next line\"))\n",
    "nb"
   ]
  },
  {
   "cell_type": "code",
   "execution_count": 6,
   "id": "11a1bfba-b478-4ccd-8c00-8ad6be491c3e",
   "metadata": {},
   "outputs": [
    {
     "data": {
      "text/plain": [
       "{'id': 'd019fa34',\n",
       " 'cell_type': 'markdown',\n",
       " 'source': 'This is the next line',\n",
       " 'metadata': {'tags': ['hide']}}"
      ]
     },
     "execution_count": 6,
     "metadata": {},
     "output_type": "execute_result"
    }
   ],
   "source": [
    "nb, _ = StringsToMetaDataGroupPreprocessor(\n",
    "    strings=(\"hide\",), prefix=\"#\"\n",
    ").preprocess(nb, None)\n",
    "nb.cells[0]"
   ]
  },
  {
   "cell_type": "markdown",
   "id": "befbf676-c13b-4395-a316-b8120c33cac5",
   "metadata": {},
   "source": [
    "TODO:\n",
    "- Write some serious tests\n",
    "- Let it break hard\n",
    "- Add some small documentation"
   ]
  },
  {
   "cell_type": "markdown",
   "id": "755a52bf-7724-41d2-8662-d2522131dbc3",
   "metadata": {},
   "source": [
    "# Blockquote to shortcode"
   ]
  },
  {
   "cell_type": "code",
   "execution_count": null,
   "id": "d3dc803a-cfcd-4668-8548-4615f72ce4a0",
   "metadata": {},
   "outputs": [],
   "source": [
    "def add_jekyll_notes(cell):\n",
    "    \"Convert block quotes to jekyll notes in `cell`\"\n",
    "    styles = get_config().get('jekyll_styles', 'note,warning,tip,important').split(',')\n",
    "    def _inner(m):\n",
    "        title,text = m.groups()\n",
    "        if title.lower() not in styles: return f\"> {title}:{text}\"\n",
    "        return '{% include '+title.lower()+\".html content=\\'\"+_to_html(text)+\"\\' %}\"\n",
    "    if cell['cell_type'] == 'markdown':\n",
    "        cell['source'] = _re_block_notes.sub(_inner, cell['source'])\n",
    "    return cell\n",
    "\n",
    "_re_block_notes.sub(_inner, cell[\"source\"])"
   ]
  },
  {
   "cell_type": "code",
   "execution_count": null,
   "id": "de4e0d10-12bf-4f3e-bf52-bb439708138c",
   "metadata": {},
   "outputs": [],
   "source": [
    "class BlockQuoteToNikolaNotesPreprocessor(Preprocessor):\n",
    "    # Do with capturing group\n",
    "    strings = List(Unicode(), default_value=[]).tag(config=True)\n",
    "    prefix = Unicode(default_value=\"#\").tag(config=True)\n",
    "    comment = Unicode().tag(config=True)\n",
    "    metadata_group = Unicode(default_value=\"tags\").tag(config=True)\n",
    "    remove_line = Bool(default_value=True).tag(config=True)\n",
    "\n",
    "    def _write_pattern_as_tag(self, pattern, cell):\n",
    "        m = pattern.search(cell.source)\n",
    "        if m is not None:\n",
    "            tag = m.group(1)\n",
    "            tags = cell.setdefault(\"metadata\", {}).setdefault(self.metadata_group, [])\n",
    "            if tag not in tags:\n",
    "                tags.append(tag)\n",
    "            cell[\"metadata\"][self.metadata_group] = tags\n",
    "        return cell\n",
    "    \n",
    "    def _build_regex_patterns(self):\n",
    "        prefix = re.escape(self.prefix)\n",
    "        escaped_strings = [re.escape(s) for s in self.strings]\n",
    "        patterns = [\n",
    "            re.compile(\n",
    "                rf\"\"\"\n",
    "                # {self.comment}\n",
    "                ^ # match start of each line\n",
    "                \\s*{prefix}\\s* # allow whitespace before and after prefix\n",
    "                ({string}) # pattern to capture\n",
    "                \\s* # allow any number of whitespaces after command\n",
    "                $ # match end of each line (excludes \\n in MULTILINE)\n",
    "                [\\r\\n]* # Capture current and all following empty newlines\n",
    "            \"\"\",\n",
    "                re.VERBOSE | re.MULTILINE,\n",
    "            )\n",
    "            for string in escaped_strings\n",
    "        ]\n",
    "        return patterns\n",
    "\n",
    "    def preprocess_cell(self, cell, resource, index):\n",
    "        # maybe only check code\n",
    "        for pattern in self._build_regex_patterns():\n",
    "            cell = self._write_pattern_as_tag(pattern, cell)\n",
    "            if self.remove_line:\n",
    "                cell.source = pattern.sub(\"\", cell.source)\n",
    "        return cell, resource"
   ]
  },
  {
   "cell_type": "markdown",
   "id": "e77b9bfb-f6d6-4504-becb-5a51086d3946",
   "metadata": {},
   "source": [
    "## Tag to Collapsible Hide"
   ]
  },
  {
   "cell_type": "code",
   "execution_count": 72,
   "id": "5f20bb77-c4cc-4dd4-b677-5cfc94edcea2",
   "metadata": {},
   "outputs": [],
   "source": [
    "from nbconvert.preprocessors import TagRemovePreprocessor"
   ]
  },
  {
   "cell_type": "code",
   "execution_count": null,
   "id": "4f2ba0cc-0343-4a09-8032-71d544ad3458",
   "metadata": {},
   "outputs": [],
   "source": []
  }
 ],
 "metadata": {
  "kernelspec": {
   "display_name": "Python 3",
   "language": "python",
   "name": "python3"
  },
  "language_info": {
   "codemirror_mode": {
    "name": "ipython",
    "version": 3
   },
   "file_extension": ".py",
   "mimetype": "text/x-python",
   "name": "python",
   "nbconvert_exporter": "python",
   "pygments_lexer": "ipython3",
   "version": "3.8.8"
  }
 },
 "nbformat": 4,
 "nbformat_minor": 5
}
