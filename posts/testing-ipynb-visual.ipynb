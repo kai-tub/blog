{
 "cells": [
  {
   "cell_type": "markdown",
   "id": "c26ca910",
   "metadata": {},
   "source": [
    "# Testing ipynb visual\n",
    "\n",
    "- status: draft"
   ]
  },
  {
   "cell_type": "code",
   "execution_count": null,
   "id": "473b9eda",
   "metadata": {},
   "outputs": [],
   "source": [
    "# import altair as alt\n",
    "# from vega_datasets import data\n",
    "\n",
    "# alt.renderers.set_embed_options(actions=False)\n",
    "\n",
    "# source = data.cars()\n",
    "# brush = alt.selection(type='interval')\n",
    "\n",
    "# alt.Chart(source).mark_point().encode(\n",
    "#     x='Horsepower:Q',\n",
    "#     y='Miles_per_Gallon:Q',\n",
    "#     color=alt.condition(brush, 'Cylinders:O', alt.value('grey')),\n",
    "# ).add_selection(brush).properties(\n",
    "#     # requires hack to display \"responsive\" in blog\n",
    "#     width='container',\n",
    "#     height=400,\n",
    "# )"
   ]
  },
  {
   "cell_type": "code",
   "execution_count": null,
   "id": "54c360b1",
   "metadata": {},
   "outputs": [],
   "source": [
    "# from pathlib import Path\n",
    "\n",
    "# import cartopy.crs as ccrs\n",
    "# import geopandas\n",
    "# import geoviews as gv\n",
    "# import datashader\n",
    "# from holoviews.operation.datashader import datashade, dynspread\n",
    "# from spatialpandas import GeoDataFrame\n",
    "# import geoviews.feature as gf\n",
    "# import cartopy.feature as cf\n",
    "# import holoviews as hv\n",
    "# from colorcet import fire\n",
    "\n",
    "# gv.extension(\"bokeh\")\n",
    "# gv.output()"
   ]
  },
  {
   "cell_type": "code",
   "execution_count": null,
   "id": "ca32caf1",
   "metadata": {},
   "outputs": [],
   "source": [
    "# FUTURE: Understand how to customize toolbar\n",
    "# - Remove save icon and box-zoom\n",
    "# - Default to scroll-wheel zoom\n",
    "# - Maybe even find a way to increase the margin between image and toolbar\n",
    "\n",
    "# p = (gf.ocean * gf.borders).opts(\n",
    "#     projection=ccrs.NearsidePerspective(\n",
    "#         central_latitude=25,\n",
    "# #         central_longitude=10,\n",
    "# #         satellite_height=geostationary_orbit_m // 20,\n",
    "#     ),\n",
    "#     global_extent=True,\n",
    "#     data_aspect=1, \n",
    "#     # responsive=True,\n",
    "#     frame_height=400,\n",
    "#     toolbar=\"above\",\n",
    "# )\n",
    "# p"
   ]
  },
  {
   "cell_type": "code",
   "execution_count": null,
   "id": "8d8be150",
   "metadata": {},
   "outputs": [],
   "source": [
    "# Try to correctly link to static images\n",
    "\n",
    "# test output of pandas\n",
    "# test output of leaflet\n",
    "# test output of numpy"
   ]
  },
  {
   "cell_type": "code",
   "execution_count": null,
   "id": "81ca25fa",
   "metadata": {},
   "outputs": [],
   "source": [
    "import pandas as pd\n",
    "import numpy as np"
   ]
  },
  {
   "cell_type": "code",
   "execution_count": null,
   "id": "9da64a90",
   "metadata": {},
   "outputs": [],
   "source": [
    "data = np.array([(1, 2, 3), (4, 5, 6), (7, 8, 9)],\n",
    "                dtype=[(\"a\", \"i4\"), (\"b\", \"i4\"), (\"c\", \"i4\")])\n",
    "df3 = pd.DataFrame(data, columns=['c', 'a'])"
   ]
  },
  {
   "cell_type": "code",
   "execution_count": null,
   "id": "6f779835",
   "metadata": {},
   "outputs": [],
   "source": [
    "df3"
   ]
  }
 ],
 "metadata": {
  "interpreter": {
   "hash": "2a5aa0e5c8010637f2b6a85782d66dcdf59fd6de4191febebd9a6412d79ff53c"
  },
  "kernelspec": {
   "display_name": "Python 3.9.6 64-bit ('blog': conda)",
   "name": "python3"
  },
  "language_info": {
   "codemirror_mode": {
    "name": "ipython",
    "version": 3
   },
   "file_extension": ".py",
   "mimetype": "text/x-python",
   "name": "python",
   "nbconvert_exporter": "python",
   "pygments_lexer": "ipython3",
   "version": "3.9.7"
  },
  "nikola": {
   "category": "blog-example",
   "date": "2021-07-12 11:30:20 UTC+02:00",
   "description": "",
   "link": "",
   "slug": "testing-ipynb-vis",
   "status": "draft",
   "tags": [
    "blog-example"
   ],
   "title": "Testing ipynb visualizations",
   "type": "text"
  }
 },
 "nbformat": 4,
 "nbformat_minor": 5
}
