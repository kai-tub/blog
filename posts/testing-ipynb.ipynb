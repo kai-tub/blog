{
 "cells": [
  {
   "cell_type": "markdown",
   "source": [
    "# Normal markdown"
   ],
   "metadata": {}
  },
  {
   "cell_type": "markdown",
   "source": [
    "This is a long normal markdown text:\n",
    "Lorem ipsum dolor sit amet, consetetur sadipscing elitr, sed diam nonumy eirmod tempor invidunt ut labore et dolore magna aliquyam erat, sed diam voluptua. At vero eos et accusam et justo duo dolores et ea rebum. Stet clita kasd gubergren, no sea takimata sanctus est Lorem ipsum dolor sit amet. Lorem ipsum dolor sit amet, consetetur sadipscing elitr, sed diam nonumy eirmod tempor invidunt ut labore et dolore magna aliquyam erat, sed diam voluptua. At vero eos et accusam et justo duo dolores et ea rebum. Stet clita kasd gubergren, no sea takimata sanctus est Lorem ipsum dolor sit amet."
   ],
   "metadata": {}
  },
  {
   "cell_type": "markdown",
   "source": [
    "This is a normal markdown [link](https://feimosi.github.io/baguetteBox.js/).\n",
    "<!-- END_TEASER -->"
   ],
   "metadata": {}
  },
  {
   "cell_type": "markdown",
   "source": [
    "The following block is empty:"
   ],
   "metadata": {}
  },
  {
   "cell_type": "markdown",
   "source": [],
   "metadata": {}
  },
  {
   "cell_type": "markdown",
   "source": [
    "This is the next non-empty markdown cell."
   ],
   "metadata": {}
  },
  {
   "cell_type": "markdown",
   "source": [
    "# Code cells"
   ],
   "metadata": {}
  },
  {
   "cell_type": "code",
   "execution_count": 12,
   "source": [
    "print(\"Hello World\")"
   ],
   "outputs": [
    {
     "output_type": "stream",
     "name": "stdout",
     "text": [
      "Hello World\n"
     ]
    }
   ],
   "metadata": {}
  },
  {
   "cell_type": "code",
   "execution_count": 13,
   "source": [
    "s = \"\"\"\n",
    "Long input and output code:\n",
    "Lorem ipsum dolor sit amet, consetetur sadipscing elitr, sed diam nonumy eirmod tempor invidunt ut labore et dolore magna aliquyam erat, sed diam voluptua. At vero eos et accusam et justo duo dolores et ea rebum. Stet clita kasd gubergren, no sea takimata sanctus est Lorem ipsum dolor sit amet. Lorem ipsum dolor sit amet, consetetur sadipscing elitr, sed diam nonumy eirmod tempor invidunt ut labore et dolore magna aliquyam erat, sed diam voluptua. At vero eos et accusam et justo duo dolores et ea rebum. Stet clita kasd gubergren, no sea takimata sanctus est Lorem ipsum dolor sit amet.\n",
    "\"\"\"\n",
    "\n",
    "s"
   ],
   "outputs": [
    {
     "output_type": "execute_result",
     "data": {
      "text/plain": [
       "'\\nLong input and output code:\\nLorem ipsum dolor sit amet, consetetur sadipscing elitr, sed diam nonumy eirmod tempor invidunt ut labore et dolore magna aliquyam erat, sed diam voluptua. At vero eos et accusam et justo duo dolores et ea rebum. Stet clita kasd gubergren, no sea takimata sanctus est Lorem ipsum dolor sit amet. Lorem ipsum dolor sit amet, consetetur sadipscing elitr, sed diam nonumy eirmod tempor invidunt ut labore et dolore magna aliquyam erat, sed diam voluptua. At vero eos et accusam et justo duo dolores et ea rebum. Stet clita kasd gubergren, no sea takimata sanctus est Lorem ipsum dolor sit amet.\\n'"
      ]
     },
     "metadata": {},
     "execution_count": 13
    }
   ],
   "metadata": {}
  },
  {
   "cell_type": "code",
   "execution_count": 14,
   "source": [
    "print(s)"
   ],
   "outputs": [
    {
     "output_type": "stream",
     "name": "stdout",
     "text": [
      "\n",
      "Long input and output code:\n",
      "Lorem ipsum dolor sit amet, consetetur sadipscing elitr, sed diam nonumy eirmod tempor invidunt ut labore et dolore magna aliquyam erat, sed diam voluptua. At vero eos et accusam et justo duo dolores et ea rebum. Stet clita kasd gubergren, no sea takimata sanctus est Lorem ipsum dolor sit amet. Lorem ipsum dolor sit amet, consetetur sadipscing elitr, sed diam nonumy eirmod tempor invidunt ut labore et dolore magna aliquyam erat, sed diam voluptua. At vero eos et accusam et justo duo dolores et ea rebum. Stet clita kasd gubergren, no sea takimata sanctus est Lorem ipsum dolor sit amet.\n",
      "\n"
     ]
    }
   ],
   "metadata": {}
  },
  {
   "cell_type": "markdown",
   "source": [
    "## IPynb magic "
   ],
   "metadata": {}
  },
  {
   "cell_type": "markdown",
   "source": [
    "The next box is removed by manually setting the `tag` in `jupyter`."
   ],
   "metadata": {}
  },
  {
   "cell_type": "code",
   "execution_count": 15,
   "source": [
    "# removed through metadata key"
   ],
   "outputs": [],
   "metadata": {
    "tags": [
     "hide"
    ]
   }
  },
  {
   "cell_type": "markdown",
   "source": [
    "This box comes **after** the key with the `hide` metadata tag."
   ],
   "metadata": {}
  },
  {
   "cell_type": "markdown",
   "source": [
    "The next box is hidden by using the  `hide`  comment."
   ],
   "metadata": {}
  },
  {
   "cell_type": "code",
   "execution_count": 16,
   "source": [
    "# hide\n",
    "# testing if my custom preprocessor works "
   ],
   "outputs": [],
   "metadata": {}
  },
  {
   "cell_type": "markdown",
   "source": [
    "This comes after the box with the `hide` comment."
   ],
   "metadata": {}
  },
  {
   "cell_type": "code",
   "execution_count": 17,
   "source": [
    "# hide_output\n",
    "print(\"\"\"\n",
    "The output will be hidden through the `hide_output` comment.\n",
    "And the comment itself is also stripped because \n",
    "I feel like it adds too much noise to the code cell in the blog.\n",
    "\"\"\")"
   ],
   "outputs": [
    {
     "output_type": "stream",
     "name": "stdout",
     "text": [
      "\n",
      "The output will be hidden through the `hide_output` comment.\n",
      "And the comment itself is also stripped because \n",
      "I feel like it adds too much noise to the code cell in the blog.\n",
      "\n"
     ]
    }
   ],
   "metadata": {}
  },
  {
   "cell_type": "code",
   "execution_count": 18,
   "source": [
    "# hide_input \n",
    "print(\"The input/code is hidden through the `hide_input` comment.\")"
   ],
   "outputs": [
    {
     "output_type": "stream",
     "name": "stdout",
     "text": [
      "The input/code is hidden through the `hide_input` comment.\n"
     ]
    }
   ],
   "metadata": {}
  },
  {
   "cell_type": "markdown",
   "source": [
    "> Note: The conversion from block notes to shortcodes should work as expected"
   ],
   "metadata": {}
  },
  {
   "cell_type": "markdown",
   "source": [
    "> note: The shortcode is case-sensitive!"
   ],
   "metadata": {}
  },
  {
   "cell_type": "markdown",
   "source": [
    "> Warning: This is a warning"
   ],
   "metadata": {}
  },
  {
   "cell_type": "markdown",
   "source": [
    "> Important: This is an important reminder"
   ],
   "metadata": {}
  },
  {
   "cell_type": "markdown",
   "source": [
    "> Tip: This is a very long tip that needs to go over multiple lines to test how the line break looks like. Because this should also look nice on small screens for people like me that do most of their reading on the toilet. "
   ],
   "metadata": {}
  },
  {
   "cell_type": "markdown",
   "source": [
    "> Note: Links also work with normal markdown style. See [here](https://images.unsplash.com/photo-1534351450181-ea9f78427fe8?ixid=MnwxMjA3fDB8MHxwaG90by1wYWdlfHx8fGVufDB8fHx8&ixlib=rb-1.2.1&auto=format&fit=crop&w=334&q=80)"
   ],
   "metadata": {}
  },
  {
   "cell_type": "markdown",
   "source": [
    "It is also possible to embed youtube videos.\n",
    "These will default to an aspect ratio of 16:9.\n",
    "Only works with clean links or with the direct id, like:\n",
    "\n",
    "- `> Youtube: https://youtu.be/HEfHFsfGXjs`\n",
    "- `> Youtube: HEfHFsfGXjs`"
   ],
   "metadata": {}
  },
  {
   "cell_type": "markdown",
   "source": [
    "> Youtube: https://youtu.be/HEfHFsfGXjs\n"
   ],
   "metadata": {}
  },
  {
   "cell_type": "markdown",
   "source": [
    "Testing collapse, let's see what happens"
   ],
   "metadata": {}
  },
  {
   "cell_type": "code",
   "execution_count": 19,
   "source": [
    "# collapse_output\n",
    "print(\"Output should be collapsed\")"
   ],
   "outputs": [
    {
     "output_type": "stream",
     "name": "stdout",
     "text": [
      "Output should be collapsed\n"
     ]
    }
   ],
   "metadata": {}
  },
  {
   "cell_type": "code",
   "execution_count": 20,
   "source": [
    "# Should be collapsed by metadata keyword\n",
    "print(\"Output should be collapsed\")"
   ],
   "outputs": [
    {
     "output_type": "stream",
     "name": "stdout",
     "text": [
      "Output should be collapsed\n"
     ]
    }
   ],
   "metadata": {
    "tags": [
     "collapse_output"
    ]
   }
  },
  {
   "cell_type": "code",
   "execution_count": 21,
   "source": [
    "# collapse_hide\n",
    "print(\"Some\\nlonger\\noutput\\nover\\nmultiple\\nlines\")"
   ],
   "outputs": [
    {
     "output_type": "stream",
     "name": "stdout",
     "text": [
      "Some\n",
      "longer\n",
      "output\n",
      "over\n",
      "multiple\n",
      "lines\n"
     ]
    }
   ],
   "metadata": {}
  },
  {
   "cell_type": "code",
   "execution_count": 22,
   "source": [
    "# collapse_show  \n",
    "print(\"Some\\nlonger\\noutput\\nover\\nmultiple\\nlines\")"
   ],
   "outputs": [
    {
     "output_type": "stream",
     "name": "stdout",
     "text": [
      "Some\n",
      "longer\n",
      "output\n",
      "over\n",
      "multiple\n",
      "lines\n"
     ]
    }
   ],
   "metadata": {}
  },
  {
   "cell_type": "code",
   "execution_count": null,
   "source": [],
   "outputs": [],
   "metadata": {}
  }
 ],
 "metadata": {
  "interpreter": {
   "hash": "68ddc7498eb06998a2cd871d7b965369fbc43834e1eed9917cf7553d3bc6b3d1"
  },
  "kernelspec": {
   "display_name": "Python 3",
   "language": "python",
   "name": "python3"
  },
  "language_info": {
   "codemirror_mode": {
    "name": "ipython",
    "version": 3
   },
   "file_extension": ".py",
   "mimetype": "text/x-python",
   "name": "python",
   "nbconvert_exporter": "python",
   "pygments_lexer": "ipython3",
   "version": "3.8.8"
  },
  "nikola": {
   "category": "",
   "date": "2021-07-12 11:40:20 UTC+02:00",
   "description": "",
   "link": "",
   "slug": "testing-ipynb",
   "tags": "",
   "title": "Testing ipynb",
   "type": "text"
  }
 },
 "nbformat": 4,
 "nbformat_minor": 5
}