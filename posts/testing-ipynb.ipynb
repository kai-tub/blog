{
 "cells": [
  {
   "cell_type": "markdown",
   "id": "b3212949",
   "metadata": {},
   "source": [
    "# Normal markdown"
   ]
  },
  {
   "cell_type": "markdown",
   "id": "a3afae20",
   "metadata": {},
   "source": [
    "This is a long normal markdown text:\n",
    "Lorem ipsum dolor sit amet, consetetur sadipscing elitr, sed diam nonumy eirmod tempor invidunt ut labore et dolore magna aliquyam erat, sed diam voluptua. At vero eos et accusam et justo duo dolores et ea rebum. Stet clita kasd gubergren, no sea takimata sanctus est Lorem ipsum dolor sit amet. Lorem ipsum dolor sit amet, consetetur sadipscing elitr, sed diam nonumy eirmod tempor invidunt ut labore et dolore magna aliquyam erat, sed diam voluptua. At vero eos et accusam et justo duo dolores et ea rebum. Stet clita kasd gubergren, no sea takimata sanctus est Lorem ipsum dolor sit amet."
   ]
  },
  {
   "cell_type": "markdown",
   "id": "cbdc3dee",
   "metadata": {},
   "source": [
    "This is a normal markdown [link](https://feimosi.github.io/baguetteBox.js/).\n",
    "<!-- END_TEASER -->"
   ]
  },
  {
   "cell_type": "markdown",
   "id": "7344b9a6",
   "metadata": {},
   "source": [
    "The following block is empty:"
   ]
  },
  {
   "cell_type": "markdown",
   "id": "e85c1ee5",
   "metadata": {},
   "source": []
  },
  {
   "cell_type": "markdown",
   "id": "71b403d4",
   "metadata": {},
   "source": [
    "This is the next non-empty markdown cell."
   ]
  },
  {
   "cell_type": "markdown",
   "id": "0cbc56d9",
   "metadata": {},
   "source": [
    "# Code cells"
   ]
  },
  {
   "cell_type": "code",
   "execution_count": null,
   "id": "19e59a49",
   "metadata": {},
   "outputs": [],
   "source": [
    "print(\"Hello World\")"
   ]
  },
  {
   "cell_type": "code",
   "execution_count": null,
   "id": "7d7d74e9",
   "metadata": {},
   "outputs": [],
   "source": [
    "s = \"\"\"\n",
    "Long input and output code:\n",
    "Lorem ipsum dolor sit amet, consetetur sadipscing elitr, sed diam nonumy eirmod tempor invidunt ut labore et dolore magna aliquyam erat, sed diam voluptua. At vero eos et accusam et justo duo dolores et ea rebum. Stet clita kasd gubergren, no sea takimata sanctus est Lorem ipsum dolor sit amet. Lorem ipsum dolor sit amet, consetetur sadipscing elitr, sed diam nonumy eirmod tempor invidunt ut labore et dolore magna aliquyam erat, sed diam voluptua. At vero eos et accusam et justo duo dolores et ea rebum. Stet clita kasd gubergren, no sea takimata sanctus est Lorem ipsum dolor sit amet.\n",
    "\"\"\"\n",
    "\n",
    "s"
   ]
  },
  {
   "cell_type": "code",
   "execution_count": null,
   "id": "d33bfa21",
   "metadata": {},
   "outputs": [],
   "source": [
    "print(s)"
   ]
  },
  {
   "cell_type": "markdown",
   "id": "80636a45",
   "metadata": {},
   "source": [
    "## IPynb magic "
   ]
  },
  {
   "cell_type": "markdown",
   "id": "015663cf",
   "metadata": {},
   "source": [
    "The next box is removed by manually setting the `tag` in `jupyter`."
   ]
  },
  {
   "cell_type": "code",
   "execution_count": null,
   "id": "497824fd",
   "metadata": {
    "tags": [
     "hide"
    ]
   },
   "outputs": [],
   "source": [
    "# removed through metadata key"
   ]
  },
  {
   "cell_type": "markdown",
   "id": "a761e361",
   "metadata": {},
   "source": [
    "This box comes **after** the key with the `hide` metadata tag."
   ]
  },
  {
   "cell_type": "markdown",
   "id": "c1c4c728",
   "metadata": {},
   "source": [
    "The next box is hidden by using the  `hide`  comment."
   ]
  },
  {
   "cell_type": "code",
   "execution_count": null,
   "id": "bca216ba",
   "metadata": {},
   "outputs": [],
   "source": [
    "# hide\n",
    "# testing if my custom preprocessor works "
   ]
  },
  {
   "cell_type": "markdown",
   "id": "569f0694",
   "metadata": {},
   "source": [
    "This comes after the box with the `hide` comment."
   ]
  },
  {
   "cell_type": "code",
   "execution_count": null,
   "id": "fd877a92",
   "metadata": {},
   "outputs": [],
   "source": [
    "# hide_output\n",
    "print(\"\"\"\n",
    "The output will be hidden through the `hide_output` comment.\n",
    "And the comment itself is also stripped because \n",
    "I feel like it adds too much noise to the code cell in the blog.\n",
    "\"\"\")"
   ]
  },
  {
   "cell_type": "code",
   "execution_count": null,
   "id": "c33355f8",
   "metadata": {},
   "outputs": [],
   "source": [
    "# hide_input  \n",
    "print(\"The input/code is hidden through the `hide_input` comment.\")"
   ]
  },
  {
   "cell_type": "markdown",
   "id": "f0e910e3",
   "metadata": {},
   "source": [
    "> Note: The conversion from block notes to shortcodes should work as expected"
   ]
  },
  {
   "cell_type": "markdown",
   "id": "9b2caa78",
   "metadata": {},
   "source": [
    "> note: The shortcode is case-sensitive!"
   ]
  },
  {
   "cell_type": "markdown",
   "id": "d786de8c",
   "metadata": {},
   "source": [
    "> Warning: This is a warning"
   ]
  },
  {
   "cell_type": "markdown",
   "id": "4f52a0e8",
   "metadata": {},
   "source": [
    "> Important: This is an important reminder"
   ]
  },
  {
   "cell_type": "markdown",
   "id": "b49a5263",
   "metadata": {},
   "source": [
    "> Tip: This is a very long tip that needs to go over multiple lines to test how the line break looks like. Because this should also look nice on small screens for people like me that do most of their reading on the toilet. "
   ]
  },
  {
   "cell_type": "markdown",
   "id": "0584e46c",
   "metadata": {},
   "source": [
    "> Note: Links also work with normal markdown style. See [here](https://images.unsplash.com/photo-1534351450181-ea9f78427fe8?ixid=MnwxMjA3fDB8MHxwaG90by1wYWdlfHx8fGVufDB8fHx8&ixlib=rb-1.2.1&auto=format&fit=crop&w=334&q=80)"
   ]
  },
  {
   "cell_type": "markdown",
   "id": "56ee1bc3",
   "metadata": {},
   "source": [
    "It is also possible to embed youtube videos.\n",
    "These will default to an aspect ratio of 16:9.\n",
    "Only works with clean links or with the direct id, like:\n",
    "\n",
    "- `> Youtube: https://youtu.be/HEfHFsfGXjs`\n",
    "- `> Youtube: HEfHFsfGXjs`"
   ]
  },
  {
   "cell_type": "markdown",
   "id": "53448dc8",
   "metadata": {},
   "source": [
    "> Youtube: https://youtu.be/HEfHFsfGXjs\n"
   ]
  },
  {
   "cell_type": "markdown",
   "id": "c5509661",
   "metadata": {},
   "source": [
    "Testing collapse, let's see what happens"
   ]
  },
  {
   "cell_type": "code",
   "execution_count": null,
   "id": "fba1916b",
   "metadata": {},
   "outputs": [],
   "source": [
    "# collapse_output \n",
    "print(\"Output should be collapsed\")"
   ]
  },
  {
   "cell_type": "code",
   "execution_count": null,
   "id": "7f592abc",
   "metadata": {
    "tags": [
     "collapse_output"
    ]
   },
   "outputs": [],
   "source": [
    "# Should be collapsed by metadata keyword\n",
    "print(\"Output should be collapsed\")"
   ]
  },
  {
   "cell_type": "code",
   "execution_count": null,
   "id": "51ca2458",
   "metadata": {},
   "outputs": [],
   "source": [
    "# collapse_hide\n",
    "print(\"Some\\nlonger\\noutput\\nover\\nmultiple\\nlines\")"
   ]
  },
  {
   "cell_type": "code",
   "execution_count": null,
   "id": "ebd2826e",
   "metadata": {},
   "outputs": [],
   "source": [
    "# collapse_show  \n",
    "print(\"Some\\nlonger\\noutput\\nover\\nmultiple\\nlines\")"
   ]
  },
  {
   "cell_type": "code",
   "execution_count": null,
   "id": "6e841f90",
   "metadata": {},
   "outputs": [],
   "source": [
    "# title"
   ]
  }
 ],
 "metadata": {
  "interpreter": {
   "hash": "2a5aa0e5c8010637f2b6a85782d66dcdf59fd6de4191febebd9a6412d79ff53c"
  },
  "kernelspec": {
   "display_name": "Python 3.9.6 64-bit ('blog': conda)",
   "name": "python3"
  },
  "language_info": {
   "codemirror_mode": {
    "name": "ipython",
    "version": 3
   },
   "file_extension": ".py",
   "mimetype": "text/x-python",
   "name": "python",
   "nbconvert_exporter": "python",
   "pygments_lexer": "ipython3"
  },
  "nikola": {
   "category": "blog-example",
   "date": "2021-08-11 19:00:20 UTC+02:00",
   "description": "",
   "link": "",
   "slug": "example-basic-ipynb",
   "tags": "blog-example",
   "title": "Basic IPynb Example",
   "type": "text"
  }
 },
 "nbformat": 4,
 "nbformat_minor": 5
}
