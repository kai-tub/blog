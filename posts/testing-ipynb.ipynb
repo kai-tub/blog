{
 "cells": [
  {
   "cell_type": "markdown",
   "id": "989937bb",
   "metadata": {},
   "source": [
    "# Normal markdown"
   ]
  },
  {
   "cell_type": "markdown",
   "id": "7cba526c",
   "metadata": {},
   "source": [
    "This is a long normal markdown text:\n",
    "Lorem ipsum dolor sit amet, consetetur sadipscing elitr, sed diam nonumy eirmod tempor invidunt ut labore et dolore magna aliquyam erat, sed diam voluptua. At vero eos et accusam et justo duo dolores et ea rebum. Stet clita kasd gubergren, no sea takimata sanctus est Lorem ipsum dolor sit amet. Lorem ipsum dolor sit amet, consetetur sadipscing elitr, sed diam nonumy eirmod tempor invidunt ut labore et dolore magna aliquyam erat, sed diam voluptua. At vero eos et accusam et justo duo dolores et ea rebum. Stet clita kasd gubergren, no sea takimata sanctus est Lorem ipsum dolor sit amet."
   ]
  },
  {
   "cell_type": "markdown",
   "id": "2599bc54",
   "metadata": {},
   "source": [
    "This is a normal markdown [link](https://feimosi.github.io/baguetteBox.js/).\n",
    "<!-- END_TEASER -->"
   ]
  },
  {
   "cell_type": "markdown",
   "id": "9eece69e",
   "metadata": {},
   "source": [
    "The following block is empty:"
   ]
  },
  {
   "cell_type": "markdown",
   "id": "c992ddbb",
   "metadata": {},
   "source": []
  },
  {
   "cell_type": "markdown",
   "id": "f82b1942",
   "metadata": {},
   "source": [
    "This is the next non-empty markdown cell."
   ]
  },
  {
   "cell_type": "markdown",
   "id": "e6aa684f",
   "metadata": {},
   "source": [
    "# Code cells"
   ]
  },
  {
   "cell_type": "code",
   "execution_count": null,
   "id": "2b597c83",
   "metadata": {},
   "outputs": [],
   "source": [
    "print(\"Hello World\")"
   ]
  },
  {
   "cell_type": "code",
   "execution_count": null,
   "id": "3324d0f1",
   "metadata": {},
   "outputs": [],
   "source": [
    "s = \"\"\"\n",
    "Long input and output code:\n",
    "Lorem ipsum dolor sit amet, consetetur sadipscing elitr, sed diam nonumy eirmod tempor invidunt ut labore et dolore magna aliquyam erat, sed diam voluptua. At vero eos et accusam et justo duo dolores et ea rebum. Stet clita kasd gubergren, no sea takimata sanctus est Lorem ipsum dolor sit amet. Lorem ipsum dolor sit amet, consetetur sadipscing elitr, sed diam nonumy eirmod tempor invidunt ut labore et dolore magna aliquyam erat, sed diam voluptua. At vero eos et accusam et justo duo dolores et ea rebum. Stet clita kasd gubergren, no sea takimata sanctus est Lorem ipsum dolor sit amet.\n",
    "\"\"\"\n",
    "\n",
    "s"
   ]
  },
  {
   "cell_type": "code",
   "execution_count": null,
   "id": "8383a822",
   "metadata": {},
   "outputs": [],
   "source": [
    "print(s)"
   ]
  },
  {
   "cell_type": "markdown",
   "id": "c3209027",
   "metadata": {},
   "source": [
    "## IPynb magic "
   ]
  },
  {
   "cell_type": "markdown",
   "id": "f5b7864f",
   "metadata": {},
   "source": [
    "The next box is removed by manually setting the `tag` in `jupyter`."
   ]
  },
  {
   "cell_type": "code",
   "execution_count": null,
   "id": "e10a9539",
   "metadata": {
    "tags": [
     "hide"
    ]
   },
   "outputs": [],
   "source": [
    "# removed through metadata key"
   ]
  },
  {
   "cell_type": "markdown",
   "id": "fe70e454",
   "metadata": {},
   "source": [
    "This box comes **after** the key with the `hide` metadata tag."
   ]
  },
  {
   "cell_type": "markdown",
   "id": "f9d12559",
   "metadata": {},
   "source": [
    "The next box is hidden by using the  `hide`  comment."
   ]
  },
  {
   "cell_type": "code",
   "execution_count": null,
   "id": "92289138",
   "metadata": {},
   "outputs": [],
   "source": [
    "# hide\n",
    "# testing if my custom preprocessor works "
   ]
  },
  {
   "cell_type": "markdown",
   "id": "ed9410d0",
   "metadata": {},
   "source": [
    "This comes after the box with the `hide` comment."
   ]
  },
  {
   "cell_type": "code",
   "execution_count": null,
   "id": "55c6a467",
   "metadata": {},
   "outputs": [],
   "source": [
    "# hide_output\n",
    "print(\"\"\"\n",
    "The output will be hidden through the `hide_output` comment.\n",
    "And the comment itself is also stripped because \n",
    "I feel like it adds too much noise to the code cell in the blog.\n",
    "\"\"\")"
   ]
  },
  {
   "cell_type": "code",
   "execution_count": null,
   "id": "5996b857",
   "metadata": {},
   "outputs": [],
   "source": [
    "# hide_input  \n",
    "print(\"The input/code is hidden through the `hide_input` comment.\")"
   ]
  },
  {
   "cell_type": "markdown",
   "id": "282c1a10",
   "metadata": {},
   "source": [
    "> Note: The conversion from block notes to shortcodes should work as expected"
   ]
  },
  {
   "cell_type": "markdown",
   "id": "f905478c",
   "metadata": {},
   "source": [
    "> note: The shortcode is case-sensitive!"
   ]
  },
  {
   "cell_type": "markdown",
   "id": "91ff2baf",
   "metadata": {},
   "source": [
    "> Warning: This is a warning"
   ]
  },
  {
   "cell_type": "markdown",
   "id": "2e9dbf75",
   "metadata": {},
   "source": [
    "> Important: This is an important reminder"
   ]
  },
  {
   "cell_type": "markdown",
   "id": "730ae291",
   "metadata": {},
   "source": [
    "> Tip: This is a very long tip that needs to go over multiple lines to test how the line break looks like. Because this should also look nice on small screens for people like me that do most of their reading on the toilet. "
   ]
  },
  {
   "cell_type": "markdown",
   "id": "ab5a9f31",
   "metadata": {},
   "source": [
    "> Note: Links also work with normal markdown style. See [here](https://images.unsplash.com/photo-1534351450181-ea9f78427fe8?ixid=MnwxMjA3fDB8MHxwaG90by1wYWdlfHx8fGVufDB8fHx8&ixlib=rb-1.2.1&auto=format&fit=crop&w=334&q=80)"
   ]
  },
  {
   "cell_type": "markdown",
   "id": "ab06d8df",
   "metadata": {},
   "source": [
    "It is also possible to embed youtube videos.\n",
    "These will default to an aspect ratio of 16:9.\n",
    "Only works with clean links or with the direct id, like:\n",
    "\n",
    "- `> Youtube: https://youtu.be/HEfHFsfGXjs`\n",
    "- `> Youtube: HEfHFsfGXjs`"
   ]
  },
  {
   "cell_type": "markdown",
   "id": "a964a719",
   "metadata": {},
   "source": [
    "> Youtube: https://youtu.be/HEfHFsfGXjs\n"
   ]
  },
  {
   "cell_type": "markdown",
   "id": "39e6fcf9",
   "metadata": {},
   "source": [
    "Testing collapse, let's see what happens"
   ]
  },
  {
   "cell_type": "code",
   "execution_count": null,
   "id": "d5a509c7",
   "metadata": {},
   "outputs": [],
   "source": [
    "# collapse_output \n",
    "print(\"Output should be collapsed\")"
   ]
  },
  {
   "cell_type": "code",
   "execution_count": null,
   "id": "7fe9fcd8",
   "metadata": {
    "tags": [
     "collapse_output"
    ]
   },
   "outputs": [],
   "source": [
    "# Should be collapsed by metadata keyword\n",
    "print(\"Output should be collapsed\")"
   ]
  },
  {
   "cell_type": "code",
   "execution_count": null,
   "id": "0425795b",
   "metadata": {},
   "outputs": [],
   "source": [
    "# collapse_hide\n",
    "print(\"Some\\nlonger\\noutput\\nover\\nmultiple\\nlines\")"
   ]
  },
  {
   "cell_type": "code",
   "execution_count": null,
   "id": "fe00f278",
   "metadata": {},
   "outputs": [],
   "source": [
    "# collapse_show  \n",
    "print(\"Some\\nlonger\\noutput\\nover\\nmultiple\\nlines\")"
   ]
  },
  {
   "cell_type": "code",
   "execution_count": null,
   "id": "a433c13e",
   "metadata": {},
   "outputs": [],
   "source": [
    "# title"
   ]
  }
 ],
 "metadata": {
  "interpreter": {
   "hash": "2a5aa0e5c8010637f2b6a85782d66dcdf59fd6de4191febebd9a6412d79ff53c"
  },
  "kernelspec": {
   "display_name": "Python 3.9.6 64-bit ('blog': conda)",
   "name": "python3"
  },
  "language_info": {
   "codemirror_mode": {
    "name": "ipython",
    "version": 3
   },
   "file_extension": ".py",
   "mimetype": "text/x-python",
   "name": "python",
   "nbconvert_exporter": "python",
   "pygments_lexer": "ipython3"
  },
  "nikola": {
   "category": "blog-example",
   "date": "2021-08-11 19:00:20 UTC+02:00",
   "description": "",
   "link": "",
   "slug": "example-basic-ipynb",
   "tags": "blog-example",
   "title": "Basic IPynb Example",
   "type": "text"
  }
 },
 "nbformat": 4,
 "nbformat_minor": 5
}
