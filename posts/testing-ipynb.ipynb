{
 "cells": [
  {
   "cell_type": "markdown",
   "source": [
    "# Normal markdown"
   ],
   "metadata": {}
  },
  {
   "cell_type": "markdown",
   "source": [
    "This is a long normal markdown text:\n",
    "Lorem ipsum dolor sit amet, consetetur sadipscing elitr, sed diam nonumy eirmod tempor invidunt ut labore et dolore magna aliquyam erat, sed diam voluptua. At vero eos et accusam et justo duo dolores et ea rebum. Stet clita kasd gubergren, no sea takimata sanctus est Lorem ipsum dolor sit amet. Lorem ipsum dolor sit amet, consetetur sadipscing elitr, sed diam nonumy eirmod tempor invidunt ut labore et dolore magna aliquyam erat, sed diam voluptua. At vero eos et accusam et justo duo dolores et ea rebum. Stet clita kasd gubergren, no sea takimata sanctus est Lorem ipsum dolor sit amet."
   ],
   "metadata": {}
  },
  {
   "cell_type": "markdown",
   "source": [
    "This is a normal markdown [link](https://feimosi.github.io/baguetteBox.js/).\n",
    "<!-- END_TEASER -->"
   ],
   "metadata": {}
  },
  {
   "cell_type": "markdown",
   "source": [
    "The following block is empty:"
   ],
   "metadata": {}
  },
  {
   "cell_type": "markdown",
   "source": [],
   "metadata": {}
  },
  {
   "cell_type": "markdown",
   "source": [
    "This is the next non-empty markdown cell."
   ],
   "metadata": {}
  },
  {
   "cell_type": "markdown",
   "source": [
    "# Code cells"
   ],
   "metadata": {}
  },
  {
   "cell_type": "code",
   "execution_count": 1,
   "source": [
    "print(\"Hello World\")"
   ],
   "outputs": [
    {
     "output_type": "stream",
     "name": "stdout",
     "text": [
      "Hello World\n"
     ]
    }
   ],
   "metadata": {}
  },
  {
   "cell_type": "code",
   "execution_count": null,
   "source": [
    "s = \"\"\"\n",
    "Long input and output code:\n",
    "Lorem ipsum dolor sit amet, consetetur sadipscing elitr, sed diam nonumy eirmod tempor invidunt ut labore et dolore magna aliquyam erat, sed diam voluptua. At vero eos et accusam et justo duo dolores et ea rebum. Stet clita kasd gubergren, no sea takimata sanctus est Lorem ipsum dolor sit amet. Lorem ipsum dolor sit amet, consetetur sadipscing elitr, sed diam nonumy eirmod tempor invidunt ut labore et dolore magna aliquyam erat, sed diam voluptua. At vero eos et accusam et justo duo dolores et ea rebum. Stet clita kasd gubergren, no sea takimata sanctus est Lorem ipsum dolor sit amet.\n",
    "\"\"\"\n",
    "\n",
    "s"
   ],
   "outputs": [],
   "metadata": {}
  },
  {
   "cell_type": "code",
   "execution_count": null,
   "source": [
    "print(s)"
   ],
   "outputs": [],
   "metadata": {}
  },
  {
   "cell_type": "markdown",
   "source": [
    "## IPynb magic "
   ],
   "metadata": {}
  },
  {
   "cell_type": "markdown",
   "source": [
    "The next box is removed by manually setting the `tag` in `jupyter`."
   ],
   "metadata": {}
  },
  {
   "cell_type": "code",
   "execution_count": null,
   "source": [
    "# removed through metadata key"
   ],
   "outputs": [],
   "metadata": {
    "tags": [
     "hide"
    ]
   }
  },
  {
   "cell_type": "markdown",
   "source": [
    "This box comes **after** the key with the `hide` metadata tag."
   ],
   "metadata": {}
  },
  {
   "cell_type": "markdown",
   "source": [
    "The next box is hidden by using the  `hide`  comment."
   ],
   "metadata": {}
  },
  {
   "cell_type": "code",
   "execution_count": null,
   "source": [
    "# hide\n",
    "# testing if my custom preprocessor works "
   ],
   "outputs": [],
   "metadata": {}
  },
  {
   "cell_type": "markdown",
   "source": [
    "This comes after the box with the `hide` comment."
   ],
   "metadata": {}
  },
  {
   "cell_type": "code",
   "execution_count": null,
   "source": [
    "# hide_output\n",
    "print(\"\"\"\n",
    "The output will be hidden through the `hide_output` comment.\n",
    "And the comment itself is also stripped because \n",
    "I feel like it adds too much noise to the code cell in the blog.\n",
    "\"\"\")"
   ],
   "outputs": [],
   "metadata": {}
  },
  {
   "cell_type": "code",
   "execution_count": null,
   "source": [
    "# hide_input  \n",
    "print(\"The input/code is hidden through the `hide_input` comment.\")"
   ],
   "outputs": [],
   "metadata": {}
  },
  {
   "cell_type": "markdown",
   "source": [
    "> Note: The conversion from block notes to shortcodes should work as expected"
   ],
   "metadata": {}
  },
  {
   "cell_type": "markdown",
   "source": [
    "> note: The shortcode is case-sensitive!"
   ],
   "metadata": {}
  },
  {
   "cell_type": "markdown",
   "source": [
    "> Warning: This is a warning"
   ],
   "metadata": {}
  },
  {
   "cell_type": "markdown",
   "source": [
    "> Important: This is an important reminder"
   ],
   "metadata": {}
  },
  {
   "cell_type": "markdown",
   "source": [
    "> Tip: This is a very long tip that needs to go over multiple lines to test how the line break looks like. Because this should also look nice on small screens for people like me that do most of their reading on the toilet. "
   ],
   "metadata": {}
  },
  {
   "cell_type": "markdown",
   "source": [
    "> Note: Links also work with normal markdown style. See [here](https://images.unsplash.com/photo-1534351450181-ea9f78427fe8?ixid=MnwxMjA3fDB8MHxwaG90by1wYWdlfHx8fGVufDB8fHx8&ixlib=rb-1.2.1&auto=format&fit=crop&w=334&q=80)"
   ],
   "metadata": {}
  },
  {
   "cell_type": "markdown",
   "source": [
    "It is also possible to embed youtube videos.\n",
    "These will default to an aspect ratio of 16:9.\n",
    "Only works with clean links or with the direct id, like:\n",
    "\n",
    "- `> Youtube: https://youtu.be/HEfHFsfGXjs`\n",
    "- `> Youtube: HEfHFsfGXjs`"
   ],
   "metadata": {}
  },
  {
   "cell_type": "markdown",
   "source": [
    "> Youtube: https://youtu.be/HEfHFsfGXjs\n"
   ],
   "metadata": {}
  },
  {
   "cell_type": "markdown",
   "source": [
    "Testing collapse, let's see what happens"
   ],
   "metadata": {}
  },
  {
   "cell_type": "code",
   "execution_count": null,
   "source": [
    "# collapse_output \n",
    "print(\"Output should be collapsed\")"
   ],
   "outputs": [],
   "metadata": {}
  },
  {
   "cell_type": "code",
   "execution_count": null,
   "source": [
    "# Should be collapsed by metadata keyword\n",
    "print(\"Output should be collapsed\")"
   ],
   "outputs": [],
   "metadata": {
    "tags": [
     "collapse_output"
    ]
   }
  },
  {
   "cell_type": "code",
   "execution_count": null,
   "source": [
    "# collapse_hide\n",
    "print(\"Some\\nlonger\\noutput\\nover\\nmultiple\\nlines\")"
   ],
   "outputs": [],
   "metadata": {}
  },
  {
   "cell_type": "code",
   "execution_count": null,
   "source": [
    "# collapse_show  \n",
    "print(\"Some\\nlonger\\noutput\\nover\\nmultiple\\nlines\")"
   ],
   "outputs": [],
   "metadata": {}
  },
  {
   "cell_type": "code",
   "execution_count": null,
   "source": [
    "# title"
   ],
   "outputs": [],
   "metadata": {}
  }
 ],
 "metadata": {
  "interpreter": {
   "hash": "2a5aa0e5c8010637f2b6a85782d66dcdf59fd6de4191febebd9a6412d79ff53c"
  },
  "kernelspec": {
   "name": "python3",
   "display_name": "Python 3.9.6 64-bit ('blog': conda)"
  },
  "language_info": {
   "name": "python",
   "version": "3.9.6",
   "mimetype": "text/x-python",
   "codemirror_mode": {
    "name": "ipython",
    "version": 3
   },
   "pygments_lexer": "ipython3",
   "nbconvert_exporter": "python",
   "file_extension": ".py"
  },
  "nikola": {
   "category": "blog-example",
   "date": "2021-08-11 19:00:20 UTC+02:00",
   "description": "",
   "link": "",
   "slug": "example-basic-ipynb",
   "tags": "blog-example",
   "title": "Basic IPynb Example",
   "type": "text"
  }
 },
 "nbformat": 4,
 "nbformat_minor": 5
}