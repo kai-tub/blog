{
 "cells": [
  {
   "cell_type": "markdown",
   "id": "dc5178e7",
   "metadata": {},
   "source": [
    "# Normal markdown"
   ]
  },
  {
   "cell_type": "markdown",
   "id": "6e92c8f6",
   "metadata": {},
   "source": [
    "This is a long normal markdown text:\n",
    "Lorem ipsum dolor sit amet, consetetur sadipscing elitr, sed diam nonumy eirmod tempor invidunt ut labore et dolore magna aliquyam erat, sed diam voluptua. At vero eos et accusam et justo duo dolores et ea rebum. Stet clita kasd gubergren, no sea takimata sanctus est Lorem ipsum dolor sit amet. Lorem ipsum dolor sit amet, consetetur sadipscing elitr, sed diam nonumy eirmod tempor invidunt ut labore et dolore magna aliquyam erat, sed diam voluptua. At vero eos et accusam et justo duo dolores et ea rebum. Stet clita kasd gubergren, no sea takimata sanctus est Lorem ipsum dolor sit amet."
   ]
  },
  {
   "cell_type": "markdown",
   "id": "9d2ebe70",
   "metadata": {},
   "source": [
    "This is a normal markdown [link](https://feimosi.github.io/baguetteBox.js/).\n",
    "<!-- END_TEASER -->"
   ]
  },
  {
   "cell_type": "markdown",
   "id": "b8eb230d",
   "metadata": {},
   "source": [
    "# Code cells"
   ]
  },
  {
   "cell_type": "code",
   "execution_count": null,
   "id": "b7253aad",
   "metadata": {},
   "outputs": [],
   "source": [
    "print(\"Hello World\")"
   ]
  },
  {
   "cell_type": "code",
   "execution_count": null,
   "id": "8d2cfbf1",
   "metadata": {},
   "outputs": [],
   "source": [
    "s = \"\"\"\n",
    "Long input and output code:\n",
    "Can use the default ipynb display method for quick display.\n",
    "\"\"\"\n",
    "\n",
    "s"
   ]
  },
  {
   "cell_type": "code",
   "execution_count": null,
   "id": "31ecaf3f",
   "metadata": {},
   "outputs": [],
   "source": [
    "print(s)"
   ]
  },
  {
   "cell_type": "markdown",
   "id": "749df5ab",
   "metadata": {},
   "source": [
    "## IPynb magic "
   ]
  },
  {
   "cell_type": "markdown",
   "id": "7cee4627",
   "metadata": {},
   "source": [
    "The next box is hidden by using the  `hide`  comment\n",
    "The following box has the following content:\n",
    "\n",
    "```python\n",
    "# hide\n",
    "# the code-blog will now be stripped from the blog output!\n",
    "```"
   ]
  },
  {
   "cell_type": "code",
   "execution_count": null,
   "id": "9d868d55",
   "metadata": {},
   "outputs": [],
   "source": [
    "# hide\n",
    "# the code-blog will now be stripped from the blog output!"
   ]
  },
  {
   "cell_type": "markdown",
   "id": "3427aa4a",
   "metadata": {},
   "source": [
    "This comes after the box with the `hide` comment."
   ]
  },
  {
   "cell_type": "markdown",
   "id": "0d030532",
   "metadata": {},
   "source": [
    "With the `# hide_output` flag, the output of the code cell will be stripped.\n",
    "To reduce the noise in the code cell itself, the _magic_ flags will be stripped from the rendered version.\n",
    "The following cell has the content:\n",
    "```python\n",
    "# hide_output\n",
    "print(\"The output will be hidden through the `hide_output` comment.\")\n",
    "```"
   ]
  },
  {
   "cell_type": "code",
   "execution_count": null,
   "id": "ec18437a",
   "metadata": {},
   "outputs": [],
   "source": [
    "# hide_output\n",
    "print(\"The output will be hidden through the `hide_output` comment.\")"
   ]
  },
  {
   "cell_type": "markdown",
   "id": "f096617c",
   "metadata": {},
   "source": [
    "The input code can also be hidden with the `hide_input` flag.\n",
    "The content of the following cell is:\n",
    "```python\n",
    "# hide_input\n",
    "print(\"The input/code is hidden through the `hide_input` comment.\")\n",
    "```"
   ]
  },
  {
   "cell_type": "code",
   "execution_count": null,
   "id": "07e310cd",
   "metadata": {},
   "outputs": [],
   "source": [
    "# hide_input  \n",
    "print(\"The input/code is hidden through the `hide_input` comment.\")"
   ]
  },
  {
   "cell_type": "markdown",
   "id": "a8aa71c5",
   "metadata": {},
   "source": [
    "> Note: The conversion from block notes to shortcodes should work as expected"
   ]
  },
  {
   "cell_type": "markdown",
   "id": "a64e0b1a",
   "metadata": {},
   "source": [
    "> note: The shortcode is case-sensitive!"
   ]
  },
  {
   "cell_type": "markdown",
   "id": "c4792d90",
   "metadata": {},
   "source": [
    "> Warning: This is a warning"
   ]
  },
  {
   "cell_type": "markdown",
   "id": "7b8c6d93",
   "metadata": {},
   "source": [
    "> Important: This is an important reminder"
   ]
  },
  {
   "cell_type": "markdown",
   "id": "767c9694",
   "metadata": {},
   "source": [
    "> Tip: This is a very long tip that needs to go over multiple lines to test how the line break looks like. Because this should also look nice on small screens for people like me that do most of their reading on the toilet. "
   ]
  },
  {
   "cell_type": "markdown",
   "id": "cd123dab",
   "metadata": {},
   "source": [
    "> Note: Links also work with normal markdown style. See [here](https://images.unsplash.com/photo-1534351450181-ea9f78427fe8?ixid=MnwxMjA3fDB8MHxwaG90by1wYWdlfHx8fGVufDB8fHx8&ixlib=rb-1.2.1&auto=format&fit=crop&w=334&q=80)"
   ]
  },
  {
   "cell_type": "markdown",
   "id": "ae8eb5c6",
   "metadata": {},
   "source": [
    "It is also possible to embed youtube videos.\n",
    "These will default to an aspect ratio of 16:9.\n",
    "Only works with clean links or with the direct id, like:\n",
    "\n",
    "- `> Youtube: https://youtu.be/HEfHFsfGXjs`\n",
    "- `> Youtube: HEfHFsfGXjs`"
   ]
  },
  {
   "cell_type": "markdown",
   "id": "e07f038b",
   "metadata": {},
   "source": [
    "> Youtube: https://youtu.be/HEfHFsfGXjs\n"
   ]
  },
  {
   "cell_type": "markdown",
   "id": "21c2eeda",
   "metadata": {},
   "source": [
    "The input/output can also be collapsed with the flags `collapse_show`, `collapse_hide`, and `collapse_output`.\n",
    "`collapse_show` will show the code/input by default but adds a button to collapse the code/input.\n",
    "`collapse_hide` hides the code/input by default but can be shown by clicking on the button.\n",
    "`collapse_output` will simply hide the output behind a button.\n",
    "\n",
    "The content of the following cell is:\n",
    "```python\n",
    "# collapse_output\n",
    "print(\"Output should be collapsed\")\n",
    "```\t"
   ]
  },
  {
   "cell_type": "code",
   "execution_count": null,
   "id": "7b2f5a3d",
   "metadata": {},
   "outputs": [],
   "source": [
    "# collapse_output\n",
    "print(\"Output should be collapsed\")"
   ]
  },
  {
   "cell_type": "markdown",
   "id": "e6db04f4",
   "metadata": {},
   "source": [
    "The following cell uses `collapse_hide` and looks like this:\n",
    "```python\n",
    "# collapse_hide\n",
    "print(\"Some\\nlonger\\noutput\\nover\\nmultiple\\nlines\")\n",
    "```"
   ]
  },
  {
   "cell_type": "code",
   "execution_count": null,
   "id": "689217b6",
   "metadata": {},
   "outputs": [],
   "source": [
    "# collapse_hide\n",
    "print(\"Some\\nlonger\\noutput\\nover\\nmultiple\\nlines\")"
   ]
  },
  {
   "cell_type": "markdown",
   "id": "49ae04c2",
   "metadata": {},
   "source": [
    "Or to show the input/code by default:\n",
    "```python\n",
    "# collapse_show\n",
    "print(\"Some\\nlonger\\noutput\\nover\\nmultiple\\nlines\")\n",
    "```"
   ]
  },
  {
   "cell_type": "code",
   "execution_count": null,
   "id": "d9e92a78",
   "metadata": {},
   "outputs": [],
   "source": [
    "# collapse_show  \n",
    "print(\"Some\\nlonger\\noutput\\nover\\nmultiple\\nlines\")"
   ]
  },
  {
   "cell_type": "markdown",
   "id": "aaa52799",
   "metadata": {},
   "source": []
  }
 ],
 "metadata": {
  "interpreter": {
   "hash": "2a5aa0e5c8010637f2b6a85782d66dcdf59fd6de4191febebd9a6412d79ff53c"
  },
  "kernelspec": {
   "display_name": "Python 3.9.6 64-bit ('blog': conda)",
   "name": "python3"
  },
  "language_info": {
   "codemirror_mode": {
    "name": "ipython",
    "version": 3
   },
   "file_extension": ".py",
   "mimetype": "text/x-python",
   "name": "python",
   "nbconvert_exporter": "python",
   "pygments_lexer": "ipython3"
  },
  "nikola": {
   "category": "blog-example",
   "date": "2021-08-11 19:00:20 UTC+02:00",
   "description": "",
   "link": "",
   "slug": "example-basic-ipynb",
   "tags": "blog-example",
   "title": "Basic IPynb Example",
   "type": "text"
  }
 },
 "nbformat": 4,
 "nbformat_minor": 5
}
