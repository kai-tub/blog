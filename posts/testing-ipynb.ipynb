{
 "cells": [
  {
   "cell_type": "markdown",
   "id": "d49d0f51",
   "metadata": {},
   "source": [
    "# Testing Converter\n",
    "> Example notebook that tests all of my custom code\n",
    "\n",
    "- date: \"2021-08-11 10:00\"\n",
    "- has_math: true\n",
    "- tags: jupyter2blog, example\n",
    "- category: jupyter2blog"
   ]
  },
  {
   "cell_type": "markdown",
   "id": "37f075b9",
   "metadata": {},
   "source": [
    "## Normal markdown"
   ]
  },
  {
   "cell_type": "markdown",
   "id": "ca69e41b",
   "metadata": {},
   "source": [
    "This is a long normal markdown text: \n",
    "Lorem ipsum dolor sit amet, consetetur sadipscing elitr, sed diam nonumy eirmod tempor invidunt ut labore et dolore magna aliquyam erat, sed diam voluptua."
   ]
  },
  {
   "cell_type": "markdown",
   "id": "7026a716",
   "metadata": {},
   "source": [
    "This is a normal markdown [link](https://feimosi.github.io/baguetteBox.js/).\n",
    "<!-- END_TEASER -->"
   ]
  },
  {
   "cell_type": "markdown",
   "id": "72d17198",
   "metadata": {},
   "source": [
    "This has some math: $\\LaTeX{} := \\alpha$"
   ]
  },
  {
   "cell_type": "markdown",
   "id": "5aa17cab",
   "metadata": {},
   "source": [
    "## Code cells"
   ]
  },
  {
   "cell_type": "code",
   "execution_count": null,
   "id": "938277a6",
   "metadata": {},
   "outputs": [],
   "source": [
    "print(\"Hello World\")"
   ]
  },
  {
   "cell_type": "code",
   "execution_count": null,
   "id": "f24298cf",
   "metadata": {},
   "outputs": [],
   "source": [
    "s = \"\"\"\n",
    "Long input and output code:\n",
    "Can use the default ipynb display method for quick display.\n",
    "\"\"\"\n",
    "\n",
    "s"
   ]
  },
  {
   "cell_type": "code",
   "execution_count": null,
   "id": "d3d8f0a2",
   "metadata": {},
   "outputs": [],
   "source": [
    "print(s)"
   ]
  },
  {
   "cell_type": "markdown",
   "id": "777b0d72",
   "metadata": {},
   "source": [
    "### IPynb magic "
   ]
  },
  {
   "cell_type": "markdown",
   "id": "9119984a",
   "metadata": {},
   "source": [
    "The next box is hidden by using the  `hide`  comment\n",
    "The following box has the following content:\n",
    "\n",
    "```python\n",
    "# hide\n",
    "# the code-blog will now be stripped from the blog output!\n",
    "```"
   ]
  },
  {
   "cell_type": "code",
   "execution_count": null,
   "id": "99a11416",
   "metadata": {},
   "outputs": [],
   "source": [
    "# hide\n",
    "# the code-blog will now be stripped from the blog output!"
   ]
  },
  {
   "cell_type": "markdown",
   "id": "902cf59e",
   "metadata": {},
   "source": [
    "This comes after the box with the `hide` comment."
   ]
  },
  {
   "cell_type": "markdown",
   "id": "92dd95ed",
   "metadata": {},
   "source": [
    "With the `# hide_output` flag, the output of the code cell will be stripped.\n",
    "To reduce the noise in the code cell itself, the _magic_ flags will be stripped from the rendered version.\n",
    "The following cell has the content:\n",
    "```python\n",
    "# hide_output\n",
    "print(\"The output will be hidden through the `hide_output` comment.\")\n",
    "```"
   ]
  },
  {
   "cell_type": "code",
   "execution_count": null,
   "id": "f0b02876",
   "metadata": {},
   "outputs": [],
   "source": [
    "# hide_output\n",
    "print(\"The output will be hidden through the `hide_output` comment.\")"
   ]
  },
  {
   "cell_type": "markdown",
   "id": "4cdf3e0a",
   "metadata": {},
   "source": [
    "The input code can also be hidden with the `hide_input` flag.\n",
    "The content of the following cell is:\n",
    "```python\n",
    "# hide_input\n",
    "print(\"The input/code is hidden through the `hide_input` comment.\")\n",
    "```"
   ]
  },
  {
   "cell_type": "code",
   "execution_count": null,
   "id": "9fb5be19",
   "metadata": {},
   "outputs": [],
   "source": [
    "# hide_input  \n",
    "print(\"The input/code is hidden through the `hide_input` comment.\")"
   ]
  },
  {
   "cell_type": "markdown",
   "id": "44a9814e",
   "metadata": {},
   "source": [
    "> Note: The conversion from block notes to shortcodes should work as expected"
   ]
  },
  {
   "cell_type": "markdown",
   "id": "a5dcba06",
   "metadata": {},
   "source": [
    "> note: The shortcode is case-sensitive!"
   ]
  },
  {
   "cell_type": "markdown",
   "id": "e3deb52c",
   "metadata": {},
   "source": [
    "> Warning: This is a warning"
   ]
  },
  {
   "cell_type": "markdown",
   "id": "c6adc49b",
   "metadata": {},
   "source": [
    "> Important: This is an important reminder"
   ]
  },
  {
   "cell_type": "markdown",
   "id": "fc417cb8",
   "metadata": {},
   "source": [
    "> Tip: This is a very long tip that needs to go over multiple lines to test how the line break looks like. Because this should also look nice on small screens for people like me that do most of their reading on the toilet. "
   ]
  },
  {
   "cell_type": "markdown",
   "id": "86a9b137",
   "metadata": {},
   "source": [
    "> Note: Links also work with normal markdown style. See [here](https://images.unsplash.com/photo-1534351450181-ea9f78427fe8?ixid=MnwxMjA3fDB8MHxwaG90by1wYWdlfHx8fGVufDB8fHx8&ixlib=rb-1.2.1&auto=format&fit=crop&w=334&q=80)"
   ]
  },
  {
   "cell_type": "markdown",
   "id": "dec15dc4",
   "metadata": {},
   "source": [
    "It is also possible to embed youtube videos.\n",
    "These will default to an aspect ratio of 16:9.\n",
    "Only works with clean links or with the direct id, like:\n",
    "\n",
    "- `> Youtube: https://youtu.be/HEfHFsfGXjs`\n",
    "- `> Youtube: HEfHFsfGXjs`"
   ]
  },
  {
   "cell_type": "markdown",
   "id": "cbe83d62",
   "metadata": {},
   "source": [
    "> Youtube: https://youtu.be/HEfHFsfGXjs\n"
   ]
  },
  {
   "cell_type": "markdown",
   "id": "7b5781a9",
   "metadata": {},
   "source": [
    "The input/output can also be collapsed with the flags `collapse_show`, `collapse_hide`, and `collapse_output`.\n",
    "`collapse_show` will show the code/input by default but adds a button to collapse the code/input.\n",
    "`collapse_hide` hides the code/input by default but can be shown by clicking on the button.\n",
    "`collapse_output` will simply hide the output behind a button.\n",
    "\n",
    "The content of the following cell is:\n",
    "```python\n",
    "# collapse_output\n",
    "print(\"Output should be collapsed\")\n",
    "```\t"
   ]
  },
  {
   "cell_type": "code",
   "execution_count": null,
   "id": "48f393ca",
   "metadata": {},
   "outputs": [],
   "source": [
    "# collapse_output\n",
    "print(\"Output should be collapsed\")"
   ]
  },
  {
   "cell_type": "markdown",
   "id": "e5cf7b6a",
   "metadata": {},
   "source": [
    "The following cell uses `collapse_hide` and looks like this:\n",
    "```python\n",
    "# collapse_hide\n",
    "print(\"Some\\nlonger\\noutput\\nover\\nmultiple\\nlines\")\n",
    "```"
   ]
  },
  {
   "cell_type": "code",
   "execution_count": null,
   "id": "686ac283",
   "metadata": {},
   "outputs": [],
   "source": [
    "# collapse_hide\n",
    "print(\"Some\\nlonger\\noutput\\nover\\nmultiple\\nlines\")"
   ]
  },
  {
   "cell_type": "markdown",
   "id": "81d33a20",
   "metadata": {},
   "source": [
    "Or to show the input/code by default:\n",
    "```python\n",
    "# collapse_show\n",
    "print(\"Some\\nlonger\\noutput\\nover\\nmultiple\\nlines\")\n",
    "```"
   ]
  },
  {
   "cell_type": "code",
   "execution_count": null,
   "id": "7672e930",
   "metadata": {},
   "outputs": [],
   "source": [
    "# collapse_show  \n",
    "print(\"Some\\nlonger\\noutput\\nover\\nmultiple\\nlines\")"
   ]
  },
  {
   "cell_type": "code",
   "execution_count": null,
   "id": "03c90825",
   "metadata": {},
   "outputs": [],
   "source": [
    "import numpy as np\n",
    "from PIL import Image, ImageOps\n",
    "\n",
    "def to_grayscale_image(x):\n",
    "    grayscale_8_bit_mode = \"L\"\n",
    "    return Image.fromarray(x, mode=grayscale_8_bit_mode)\n",
    "\n",
    "def upscale_image(img, img_width=224, img_height=224):\n",
    "    return img.resize((img_width, img_height), resample=Image.NEAREST)\n",
    "\n",
    "# PIL requires np arrays as input\n",
    "# Datatype is uint8, our unsigned int consisting of 8-bits\n",
    "# zero is our single byte/value with value 0\n",
    "# -> Array has a width and height of 1\n",
    "zero = np.zeros((1, 1), dtype=np.uint8)\n",
    "\n",
    "img_values = {\n",
    "    \"pixel_0\": zero, \n",
    "    \"pixel_64\": zero + 64, \n",
    "    \"pixel_192\": zero + 192, \n",
    "    \"pixel_255\": zero + 255\n",
    "}\n",
    "\n",
    "value = img_values[\"pixel_64\"]\n",
    "img = to_grayscale_image(value)\n",
    "img = upscale_image(img)\n",
    "bordered_img = ImageOps.expand(img, border=1, fill=\"black\")\n",
    "# bordered_img.save(\"/images/pixel.png\")"
   ]
  },
  {
   "cell_type": "markdown",
   "id": "bbee15c5",
   "metadata": {},
   "source": [
    "Some normal text.{{% Footnote %}}> My Mario reference with _Markdown_ **support** {{% /Footnote %}} Note, that the footnote directly uses shortcodes because there is no better _syntax_. Or at least I cannot find one."
   ]
  },
  {
   "cell_type": "markdown",
   "id": "e420e792",
   "metadata": {},
   "source": []
  }
 ],
 "metadata": {
  "interpreter": {
   "hash": "2a5aa0e5c8010637f2b6a85782d66dcdf59fd6de4191febebd9a6412d79ff53c"
  },
  "kernelspec": {
   "display_name": "Python 3.9.7 64-bit ('blog': conda)",
   "name": "python3"
  },
  "language_info": {
   "codemirror_mode": {
    "name": "ipython",
    "version": 3
   },
   "file_extension": ".py",
   "mimetype": "text/x-python",
   "name": "python",
   "nbconvert_exporter": "python",
   "pygments_lexer": "ipython3"
  },
  "nikola": {
   "category": "blog-example",
   "date": "2021-08-11 19:00:20 UTC+02:00",
   "description": "",
   "link": "",
   "slug": "example-basic-ipynb",
   "tags": "blog-example",
   "title": "Basic IPynb Example",
   "type": "text"
  }
 },
 "nbformat": 4,
 "nbformat_minor": 5
}
