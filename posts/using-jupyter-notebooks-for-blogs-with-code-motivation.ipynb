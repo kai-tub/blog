{
 "cells": [
  {
   "cell_type": "markdown",
   "id": "1c0441b9",
   "metadata": {},
   "source": [
    "# jupyter2blog: Motivation\n",
    "> Introduction to Jupyter Notebooks and how they have the potential to serve as an end-to-end blog creation tool.\n",
    "\n",
    "- tags: jupyter, jupyter2blog\n",
    "- date: \"2021-08-16 10:00\"\n",
    "- category: jupyter2blog"
   ]
  },
  {
   "cell_type": "markdown",
   "id": "75f77c82",
   "metadata": {},
   "source": [
    "> Note: I ❤️ [Jupyter Notebooks](https://jupyter.org/)!\n",
    "\n",
    "\n",
    "Jupyter Notebooks allow us to play around with code and directly interact with the output.\n",
    "Another big plus is the deeply integrated Markdown support.\n",
    "Using Markdown, it is easy to keep track of the whats or whys.\n",
    "Or to write down some random thoughts or to embed images to visualize a concept.\n",
    "Like, well, a _normal_, paper-based notebook.\n",
    "A dream{{% Footnote %}}My dream?{{% /Footnote %}} come true for beginners, data scientists, and everybody who likes exploratory programming.\n",
    "The Jupyter ecosystem is not limited to a specific programming language. Due to the modular nature of Notebooks, notebooks support a wide variety of _kernels_ (read programming languages) such as:\n",
    "<!-- END_TEASER -->\n",
    "\n",
    "- [Python](https://github.com/ipython/ipykernel)\n",
    "- [Julia](https://github.com/JuliaLang/IJulia.jl)\n",
    "- [R](https://irkernel.github.io/installation/)\n",
    "- [C++](https://github.com/jupyter-xeus/xeus-cling)\n",
    "- [Ruby](https://github.com/SciRuby/iruby)\n",
    "- [Golang](https://github.com/gopherdata/gophernotes)\n",
    "- [Rust](https://github.com/google/evcxr/blob/main/evcxr_jupyter/README.md)\n",
    "- and many more! See a complete list on the [jupyter-kernel wiki page](https://github.com/jupyter/jupyter/wiki/Jupyter-kernels).\n",
    "\n",
    "There are a couple of issues classic Software-Developers have when they hear about Jupyter notebooks.\n",
    "For example:\n",
    "1. Quickly bloats git repositories\n",
    "   - Hard to _diff_ with regular tools\n",
    "   - Changes to the metadata often create merge-conflicts\n",
    "2. Hard to (re-)use/extract code in other modules\n",
    "3. Hard to package and deploy\n",
    "4. Hard to test\n",
    "\n",
    "And many more complaints I've personally had or have read online.\n",
    "But there are solutions to most issues, or some work-in-progress.\n",
    "These libraries or tools are trying to bridge the gap between _classic_ development processes and notebooks.\n",
    "To give a couple of pointers:\n",
    "1. Strip all the metadata before committing with tools such as [nbstripout](https://github.com/kynan/nbstripout) or [nb-clean](https://github.com/srstevenson/nb-clean)\n",
    "   - Yes, this requires extra steps, like adding it as a [git-filter](https://git-scm.com/book/en/v2/Customizing-Git-Git-Attributes), or rejecting pull-requests if notebooks are not clean, or ...\n",
    "2. For all the other pain points: Take a look at [nbdev](https://nbdev.fast.ai/) or for the general idea the [introductory blog post](https://fastpages.fast.ai/codespaces).\n",
    "\n",
    "`Nbdev` tries{{% Footnote %}}and in my opinion succeeds!{{% /Footnote %}} to allow _Python_ Notebooks to be used for _professional/classic_ software development while staying completely interactive.\n",
    "Ok, this has nothing really to do with writing blog posts in Jupyter Notebooks, but I wanted to get it out of my system 😄.\n",
    "\n",
    "The goal is not to convince you to use Jupyter Notebooks if you don't like them and want to stick with your battle-tested development process.\n",
    "I am trying to show that the interactive and documentation properties of Jupyter Notebooks are _special_ ✨ and have a unique potential.\n",
    "\n",
    "In the remaining part of this post, I am going to try to convince you that Jupyter Notebooks are an ideal fit for writing:\n",
    "- Blogs\n",
    "- Books\n",
    "- and Presentation slides (to some extend)\n",
    "\n",
    "But, to make this statement a little more scoped, I would only recommend it if one of the following criteria is met:\n",
    "\n",
    "- You want to show _working/reproducible_ code\n",
    "- You programmatically generate parts of the output\n",
    "- You want to keep the output _interactive_\n",
    "- You interact with multiple programming languages and want to use the same \"code-to-HTML\" pipeline"
   ]
  },
  {
   "cell_type": "markdown",
   "id": "ee1dc765",
   "metadata": {},
   "source": [
    "## Why Jupyter Notebooks for Blogs\n",
    "\n",
    "Ok, so let's say you want to blog about your daily life as a developer and frequently show code snippets.\n",
    "The idea is that you want to share the code with other people who can copy and run it.\n",
    "Maybe to learn from your experience or, in my case, from past mistakes.{{% Footnote %}}Wait, is this how experience is defined?{{% /Footnote %}}\n",
    "\n",
    "It would be _disastrous_{{% Footnote %}}Ok, maybe not _disastrous_, but at least annoying and not what you would like your readers to experience.{{% /Footnote %}} if the reader finds a bug or the code isn't complete and doesn't compile.\n",
    "So, let's say you first write the code in a separate file, ensure that it works, and then copy it into your HTML/Markdown file that is later converted to a blog post.\n",
    "You know that the code works as expected. You publish it, and months after publishing, a subscriber recommends a minor change to the example code.\n",
    "The original code is maybe lost, or you don't feel the need to test it again, and then a wild tipo appears.\n",
    "And we have a broken example on our page again.\n",
    "\n",
    "This scenario is maybe a contrived example and doesn't happen too frequently. Still, for me, the separation of written content and code is, blatantly put, annoying.\n",
    "Depending on how complicated the presented code is or the underlying dependencies, there are many more possible sources for bugs.\n",
    "\n",
    "Maybe you want to ensure that the code runs with the newest dependencies or language versions to stay up-to-date.\n",
    "Or you simply never want to allow broken code to make it to your page.\n",
    "My solution is to use Jupyter Notebooks!\n",
    "\n",
    "There are more benefits of using Jupyter to write these types of blog posts:\n",
    "- Only requires you to keep one window open during the writing process\n",
    "- The code and the blog content are stored together: No need to search through old folders for the test or code that produced a visual output\n",
    "- Interactive graphs such as those from [bokeh](https://docs.bokeh.org/en/latest/index.html), [holoviews](http://holoviews.org/index.html), or [altair](https://altair-viz.github.io/) (usually) work right out of the box\n",
    "- It is possible to have some _personal_ notes next to the code but still hidden from the published page.\n",
    "\n",
    "Especially being able to document parts right next to the _blog content_ is quite helpful.\n",
    "I frequently remember seeing an _old_ bug, but not remembering how I've solved it back then.\n",
    "Or why I've decided to do it one way and not the other.\n",
    "Before we move on, let's see a couple of examples (aside from what we've seen until now, because the current page is actually a notebook. Take a look at the source code on the [source GitHub repository](https://github.com/kai-tub/blog/blob/main/posts/using-jupyter-notebooks-for-blogs-with-code-motivation.ipynb)):\n",
    "\n",
    "### Examples"
   ]
  },
  {
   "cell_type": "code",
   "execution_count": null,
   "id": "ef457fa1",
   "metadata": {},
   "outputs": [],
   "source": [
    "a = 1\n",
    "b = 2\n",
    "# the pipeline could be configured to fail on any errors\n",
    "assert a + b == 3"
   ]
  },
  {
   "cell_type": "code",
   "execution_count": null,
   "id": "cb4f3bda",
   "metadata": {},
   "outputs": [],
   "source": [
    "# Add some trivial output\n",
    "print(\"Hello World\")"
   ]
  },
  {
   "cell_type": "code",
   "execution_count": null,
   "id": "6ff0f002",
   "metadata": {},
   "outputs": [],
   "source": [
    "# hide\n",
    "import os\n",
    "\n",
    "responsive = True if os.getenv(\"responsive\") else False"
   ]
  },
  {
   "cell_type": "code",
   "execution_count": null,
   "id": "6158288a",
   "metadata": {},
   "outputs": [],
   "source": [
    "# max-w-md\n",
    "# From http://holoviews.org/reference/elements/bokeh/Contours.html#elements-bokeh-gallery-contours\n",
    "import numpy as np\n",
    "import holoviews as hv\n",
    "\n",
    "hv.extension(\"bokeh\", logo=False)\n",
    "\n",
    "def circle(radius):\n",
    "    angles = np.linspace(0, 2*np.pi, 100)\n",
    "    return {'x': radius*np.sin(angles), 'y': radius*np.cos(angles), 'radius': radius}\n",
    "\n",
    "hv.Contours([circle(i) for i in np.linspace(0, 1, 10)], vdims='radius').opts(\n",
    "    data_aspect=1,\n",
    "    toolbar=\"above\",\n",
    "    responsive=responsive,\n",
    ")"
   ]
  },
  {
   "cell_type": "markdown",
   "id": "7c47c61b",
   "metadata": {},
   "source": [
    "The output stays interactive and can be styled to be responsive.{{% Footnote %}}Making these interactive outputs responsive is an entirely different can of worms, but let's assume that I've already written a blog post about that 😄{{% /Footnote %}}"
   ]
  },
  {
   "cell_type": "markdown",
   "id": "b549f6b1",
   "metadata": {},
   "source": [
    "Sure, the example I've given is maybe not complex enough to justify the transition to Jupyter Notebooks.\n",
    "Still, I think it does showcase some benefits.\n",
    "I think that it would be even more helpful for programming books or lecturers.\n",
    "The quality of the book heavily depends on a bug-free, reproducible read.\n",
    "With tools such as [jupyterbook](https://jupyterbook.org/intro.html) it is feasible!\n",
    "For lecturers, [nbgrader](https://github.com/jupyter/nbgrader) can be helpful to create assignments and automatically correct them with Jupyter Notebooks.\n",
    "Even if you aren't planning to use Notebooks to create blog posts, maybe some tips or tricks apply to a different Jupyter project.\n",
    "Or if you are unsure whether or not you want to start writing a blog, I can share the \n",
    "[post](https://medium.com/@racheltho/why-you-yes-you-should-blog-7d2544ac1045) from Rachel Thomas that convinced me."
   ]
  },
  {
   "cell_type": "markdown",
   "id": "5997f3ce",
   "metadata": {
    "tags": []
   },
   "source": [
    "## How does it work?\n",
    "\n",
    "> Warning: You will not find the complete answer in this section. \n",
    "\n",
    "The detailed answer is in another blog post.{{% Footnote %}}Or was it in another castle?{{% /Footnote %}}\n",
    "Still, you've made it to the last section! 🎉\n",
    "\n",
    "After reading my love letter to the Jupyter team and what _could_ be done, you are maybe wondering _how_ it is done.\n",
    "In my opinion, the current _state-of-the-art_ project for generating blog posts from notebooks is [fastpages](https://fastpages.fast.ai/).\n",
    "Under the hood, it relies on [nbdev](https://nbdev.fast.ai/) to convert notebooks into serveable HTML pages.\n",
    "**But** it is limited to the Python language and requires Ruby, or specifically [jekyll](https://jekyllrb.com/) to build the websites.\n",
    "Jekyll is used to generate static websites and was mainly chosen because of its tight integration with [github-pages](https://pages.github.com/).\n",
    "Although, the next version of `nbdev` [might switch](https://github.com/fastai/nbdev/issues/406) to [Hugo](https://gohugo.io/) as a static site generator.\n",
    "\n",
    "At this point, you might think: \n",
    "\n",
    "> What are all those words and libraries?!\n",
    "\n",
    "Before we get lost in details and why I've decided to create my own `fastpages` clone with [Nikola](https://getnikola.com/), let's wrap it up for this post.\n",
    "\n",
    "Until here, the things to remember are:\n",
    "- The interactive features and integrated markdown/documentation support make Jupyter Notebooks an exciting option for:\n",
    "    - Generating content with lots of code\n",
    "    - Generating interactive content\n",
    "- If you want to write Python-based content, I would _strongly_ suggest taking a look at [nbdev](https://nbdev.fast.ai/){{% Footnote %}}Yes, even if it means that you will never revisit my site{{% /Footnote %}}\n",
    "\n",
    "You should continue reading this blog series if:\n",
    "- You want to have complete control over the entire conversion\n",
    "- You would like to blog about a language other than Python\n",
    "- You want to use a different static-page generator\n",
    "- Or well... If you want to.\n",
    "\n",
    "The blog series will _not_ show how to re-build my notebook to HTML pipeline, but how to build _your own_ notebook to HTML pipeline.\n",
    "Be prepared to get _very_ familiar with the static-page generator of your choice.\n",
    "I want to share how the existing libraries can be pieced together to build such a pipeline without having to reinvent the wheel.\n",
    "Or to give a fancy name, I will try to use the\n",
    "\n",
    "> least innovation principle\n",
    "\n",
    "Because the best code ever written, is the code that was never written."
   ]
  },
  {
   "cell_type": "code",
   "execution_count": null,
   "id": "12777542",
   "metadata": {},
   "outputs": [],
   "source": []
  }
 ],
 "metadata": {
  "interpreter": {
   "hash": "2a5aa0e5c8010637f2b6a85782d66dcdf59fd6de4191febebd9a6412d79ff53c"
  },
  "kernelspec": {
   "display_name": "Python 3 (ipykernel)",
   "language": "python",
   "name": "python3"
  },
  "language_info": {
   "codemirror_mode": {
    "name": "ipython",
    "version": 3
   },
   "file_extension": ".py",
   "mimetype": "text/x-python",
   "name": "python",
   "nbconvert_exporter": "python",
   "pygments_lexer": "ipython3",
   "version": "3.8.12"
  },
  "nikola": {
   "category": "Jupyter to Blog",
   "date": "2021-08-15 14:01:06 UTC+02:00",
   "description": "",
   "link": "",
   "slug": "using-jupyter-notebooks-for-blogs-with-code-motivation",
   "tags": "jupyter",
   "title": "Using Jupyter Notebooks for Blogs with Code: 00 Motivation",
   "type": "text"
  }
 },
 "nbformat": 4,
 "nbformat_minor": 5
}
