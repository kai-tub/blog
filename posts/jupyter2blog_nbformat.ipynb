{
 "cells": [
  {
   "cell_type": "markdown",
   "metadata": {},
   "source": [
    "# jupyter2blog: Notebook basics with nbformat\n",
    "> A post on how we can use `nbformat` to create our own notebook file. We will learn what a notebook file actually is and how we can work with `notebook_node`'s.\n",
    "\n",
    "- tags: jupyter, nbformat, notebook\n",
    "- category: jupyter2blog"
   ]
  },
  {
   "cell_type": "markdown",
   "metadata": {},
   "source": [
    "The goal of the jupyter2blog series is to use Jupyter notebooks as a source for a static website generator.\n",
    "For all future work, the first step will _always_ be to parse a notebook.\n",
    "Then we can apply transformations and export the notebook into a different format."
   ]
  },
  {
   "cell_type": "markdown",
   "metadata": {},
   "source": [
    "So before we try to apply any transformations to our source notebooks, we need to understand the notebook format itself a _little_ better.\n",
    "The main tool for loading (and dynamically creating) notebooks, or `ipynb` files, is the [nbformat](https://nbformat.readthedocs.io/en/latest/) library.\n",
    "The [nbformat](https://nbformat.readthedocs.io/en/latest/) library also supports fast validation and format migration.\n",
    "<!-- END_TEASER -->"
   ]
  },
  {
   "cell_type": "markdown",
   "metadata": {},
   "source": [
    "Let's start by simply creating a notebook _object_, or to use the Jupyter terminology, a `NotebookNode`."
   ]
  },
  {
   "cell_type": "markdown",
   "metadata": {},
   "source": [
    "> Warning: This post uses the notebook specification `>=v4.5`."
   ]
  },
  {
   "cell_type": "code",
   "execution_count": 3,
   "metadata": {},
   "outputs": [
    {
     "data": {
      "text/plain": [
       "'5.1.3'"
      ]
     },
     "execution_count": 3,
     "metadata": {},
     "output_type": "execute_result"
    }
   ],
   "source": [
    "import nbformat\n",
    "from pprint import pprint\n",
    "\n",
    "nbformat.__version__"
   ]
  },
  {
   "cell_type": "markdown",
   "metadata": {},
   "source": [
    "To create a notebook, we can call the `new_notebook()` function.\n",
    "The result of the function is different for every notebook specification version.\n",
    "The target specification is given by accessing the relevant module.\n",
    "The following code shows a list of all of the available specification versions."
   ]
  },
  {
   "cell_type": "code",
   "execution_count": 4,
   "metadata": {},
   "outputs": [
    {
     "name": "stdout",
     "output_type": "stream",
     "text": [
      "['v1', 'v2', 'v3', 'v4']\n"
     ]
    }
   ],
   "source": [
    "notebook_spec_versions = [f\"v{v_number}\" for v_number in nbformat.versions.keys()]\n",
    "pprint(notebook_spec_versions)"
   ]
  },
  {
   "cell_type": "code",
   "execution_count": 5,
   "metadata": {},
   "outputs": [
    {
     "data": {
      "text/plain": [
       "{'nbformat': 4, 'nbformat_minor': 5, 'metadata': {}, 'cells': []}"
      ]
     },
     "execution_count": 5,
     "metadata": {},
     "output_type": "execute_result"
    }
   ],
   "source": [
    "nb = nbformat.v4.new_notebook()\n",
    "nb"
   ]
  },
  {
   "cell_type": "code",
   "execution_count": 6,
   "metadata": {},
   "outputs": [],
   "source": [
    "# hide\n",
    "assert \"metadata\" in nb\n",
    "assert \"cells\" in nb"
   ]
  },
  {
   "cell_type": "markdown",
   "metadata": {},
   "source": [
    "Now we have created our first valid notebook! 🎉\n",
    "We can see that the empty notebook is rather boring.\n",
    "But we learn quite a few properties of our notebook simply by looking at the string representation.\n",
    "\n",
    "1. We can see that under the hood a `ipynb` file is nothing more than a [JSON](https://en.wikipedia.org/wiki/JSON) file.\n",
    "1. Each notebooks will inform us what JSON schema (notebook specification version) was used to create the file\n",
    "    - This allows the `nbformat` library to stay backwards compatible and an easy on-the-fly conversion from the _original_ notebook to a newer (or older!) version.\n",
    "1. Global metadata stored to the `metadata` field\n",
    "1. The actual _cells_ that we see on our screens are defined in `cells`"
   ]
  },
  {
   "cell_type": "markdown",
   "metadata": {},
   "source": [
    "> Tip: For me it was confusing that the current library version is >4 but the highest `vX` module (currently) is `v4`. The reason is that the _JSON schema_ that defines how notebooks are encoded is _independent_ of the library version! "
   ]
  },
  {
   "cell_type": "markdown",
   "metadata": {},
   "source": [
    "There are three types of cells:\n",
    "- Markdown\n",
    "- Code\n",
    "- Raw"
   ]
  },
  {
   "cell_type": "code",
   "execution_count": 7,
   "metadata": {},
   "outputs": [
    {
     "data": {
      "text/plain": [
       "{'id': '51a32702',\n",
       " 'cell_type': 'markdown',\n",
       " 'source': '# This is a markdown h1 header',\n",
       " 'metadata': {}}"
      ]
     },
     "execution_count": 7,
     "metadata": {},
     "output_type": "execute_result"
    }
   ],
   "source": [
    "md_cell = nbformat.v4.new_markdown_cell(\"# This is a markdown h1 header\")\n",
    "md_cell"
   ]
  },
  {
   "cell_type": "markdown",
   "metadata": {},
   "source": [
    "The structure of a cell is straight-forward:\n",
    "\n",
    "- `id`: Unique cell id\n",
    "    - Added in `nbformat=4.5`\n",
    "    - Ensures that cells can be referenced across a notebook's life-time\n",
    "    - See [JEP62](https://github.com/jupyter/enhancement-proposals/blob/master/62-cell-id/cell-id.md) for more information\n",
    "- `cell_type`: Defines what type of cell the cell itself is\n",
    "- `source`: The actual source/code/text of the cell\n",
    "- `metadata`: Extra **cell-specific** metadata"
   ]
  },
  {
   "cell_type": "markdown",
   "metadata": {},
   "source": [
    "A _raw_ cell looks exactly like a markdown cell, with the only difference being the value of the `cell_type` option:"
   ]
  },
  {
   "cell_type": "code",
   "execution_count": 8,
   "metadata": {},
   "outputs": [
    {
     "data": {
      "text/plain": [
       "{'id': 'dba2c85e',\n",
       " 'cell_type': 'raw',\n",
       " 'source': '# This is a raw cell',\n",
       " 'metadata': {}}"
      ]
     },
     "execution_count": 8,
     "metadata": {},
     "output_type": "execute_result"
    }
   ],
   "source": [
    "raw_cell = nbformat.v4.new_raw_cell(\"# This is a raw cell\")\n",
    "raw_cell"
   ]
  },
  {
   "cell_type": "markdown",
   "metadata": {},
   "source": [
    "So why does it exists?\n",
    "\n",
    "The reason why we need a _raw_ cell is to allow interfaces or exporters to know that the cell should be parsed _as is_ and should not be interpreted as a markdown cell.\n",
    "Instead of raw, we could also think of it as _plain text_.\n",
    "\n",
    "Take a look at your preferred notebook interface (`jupyterlab` for example) and see the difference between the output of `# hello` if the cell is defined as a markdown or a raw cell yourself!\n",
    "Since `#` is equivalent to a `<h1>`/title heading in markdown, the output will be formatted accordingly.\n",
    "The _raw_ cell will keep the output unchanged."
   ]
  },
  {
   "cell_type": "markdown",
   "metadata": {},
   "source": [
    "The last cell type is the _code_ cell.\n",
    "The code cell has a bit more information:"
   ]
  },
  {
   "cell_type": "code",
   "execution_count": 9,
   "metadata": {},
   "outputs": [
    {
     "data": {
      "text/plain": [
       "{'id': '73f40b4d',\n",
       " 'cell_type': 'code',\n",
       " 'metadata': {},\n",
       " 'execution_count': None,\n",
       " 'source': '# This is Python comment',\n",
       " 'outputs': []}"
      ]
     },
     "execution_count": 9,
     "metadata": {},
     "output_type": "execute_result"
    }
   ],
   "source": [
    "code_cell = nbformat.v4.new_code_cell(\"# This is Python comment\")\n",
    "code_cell"
   ]
  },
  {
   "cell_type": "markdown",
   "metadata": {},
   "source": [
    "The code cell additionally contains:\n",
    "- `execution_count`: The execution number we see next to the code cell in a jupyter interface\n",
    "    - The number indicates when the cell was last executed\n",
    "- `outputs`: The output we see under the code cell after its last execution"
   ]
  },
  {
   "cell_type": "markdown",
   "metadata": {},
   "source": [
    "All of these keys can also be dynamically added during the cell instantiation process.\n",
    "The execution count is a simple integer.\n",
    "But, the `outputs` field has a special format, which is out of the scope of the current article.\n",
    "If you are interested you can read more about how the `outputs` fields is defined and used under the hood in the [nbformat documentation](https://nbformat.readthedocs.io/en/latest/format_description.html#code-cell-outputs)."
   ]
  },
  {
   "cell_type": "code",
   "execution_count": 10,
   "metadata": {},
   "outputs": [],
   "source": [
    "code_cell_with_count = nbformat.v4.new_code_cell(\"# Python comment\", execution_count=42)"
   ]
  },
  {
   "cell_type": "markdown",
   "metadata": {},
   "source": [
    "We can add all of these cells to our initial empty notebook node."
   ]
  },
  {
   "cell_type": "code",
   "execution_count": 11,
   "metadata": {},
   "outputs": [
    {
     "name": "stdout",
     "output_type": "stream",
     "text": [
      "{'cells': [{'cell_type': 'markdown',\n",
      "            'id': '51a32702',\n",
      "            'metadata': {},\n",
      "            'source': '# This is a markdown h1 header'},\n",
      "           {'cell_type': 'raw',\n",
      "            'id': 'dba2c85e',\n",
      "            'metadata': {},\n",
      "            'source': '# This is a raw cell'},\n",
      "           {'cell_type': 'code',\n",
      "            'execution_count': None,\n",
      "            'id': '73f40b4d',\n",
      "            'metadata': {},\n",
      "            'outputs': [],\n",
      "            'source': '# This is Python comment'},\n",
      "           {'cell_type': 'code',\n",
      "            'execution_count': 42,\n",
      "            'id': 'd5c2e6d4',\n",
      "            'metadata': {},\n",
      "            'outputs': [],\n",
      "            'source': '# Python comment'}],\n",
      " 'metadata': {},\n",
      " 'nbformat': 4,\n",
      " 'nbformat_minor': 5}\n"
     ]
    }
   ],
   "source": [
    "# collapse_output\n",
    "cells = [md_cell, raw_cell, code_cell, code_cell_with_count]\n",
    "# remember nb.cells is simply a normal list\n",
    "nb.cells.extend(cells)\n",
    "pprint(nb)"
   ]
  },
  {
   "cell_type": "markdown",
   "metadata": {},
   "source": [
    "Since we have a notebook with content, let's export it!"
   ]
  },
  {
   "cell_type": "code",
   "execution_count": 12,
   "metadata": {},
   "outputs": [],
   "source": [
    "# hide\n",
    "from pathlib import Path\n",
    "\n",
    "# this is location when run from nikola blog exporter\n",
    "tmp_location = Path.cwd() / \"files\"\n",
    "# this is the location when run from jupyterlab\n",
    "if not tmp_location.exists():\n",
    "    tmp_location = Path.cwd() / \"..\" / \"files\"\n",
    "\n",
    "tmp_location = tmp_location.resolve()\n",
    "assert tmp_location.exists()\n"
   ]
  },
  {
   "cell_type": "code",
   "execution_count": 13,
   "metadata": {},
   "outputs": [],
   "source": [
    "# change tmp_location to your desired path or simply delete until \"_out.ipynb\"\n",
    "path = tmp_location / \"_out.ipynb\"\n",
    "nbformat.write(nb, path)"
   ]
  },
  {
   "cell_type": "markdown",
   "metadata": {},
   "source": [
    "You can then open the notebook with your favorite notebook interface and see if it looks like you expect!\n",
    "If we would like to read the notebook and change any of it contents you simple need to use `nbformat.read`.\n"
   ]
  },
  {
   "cell_type": "markdown",
   "metadata": {},
   "source": [
    "Here is how the generated output {{% Footnote %}}This inline notebook rendering is possible due to the amazing work from the [jupyter nbviewer](https://nbviewer.org/) team! {{% /Footnote %}} looks like: \n",
    "\n",
    "{{% NBViewer title=\"Generated NB\" %}}_out.ipynb{{% /NBViewer %}}"
   ]
  },
  {
   "cell_type": "markdown",
   "metadata": {},
   "source": [
    "\n",
    "\n",
    "To ensure that your code is compatible with future updates to the notebook specification, you are _required_ to provide the desired **target** specification.\n",
    "The `nbformat` library will ensure that the notebook is read with the original and converted to the desired version.\n",
    "\n",
    "> Note: Remember that the notebook file itself contains an entry about what notebook schema is used!"
   ]
  },
  {
   "cell_type": "code",
   "execution_count": 15,
   "metadata": {},
   "outputs": [
    {
     "name": "stdout",
     "output_type": "stream",
     "text": [
      "{'metadata': {'name': ''},\n",
      " 'nbformat': 3,\n",
      " 'nbformat_minor': 0,\n",
      " 'orig_nbformat': 4,\n",
      " 'orig_nbformat_minor': 5,\n",
      " 'worksheets': [{'cells': [{'cell_type': 'heading',\n",
      "                            'level': 1,\n",
      "                            'metadata': {},\n",
      "                            'source': 'This is a markdown h1 header'},\n",
      "                           {'cell_type': 'raw',\n",
      "                            'metadata': {},\n",
      "                            'source': '# This is a raw cell'},\n",
      "                           {'cell_type': 'code',\n",
      "                            'collapsed': False,\n",
      "                            'input': '# This is Python comment',\n",
      "                            'language': 'python',\n",
      "                            'metadata': {},\n",
      "                            'outputs': [],\n",
      "                            'prompt_number': None},\n",
      "                           {'cell_type': 'code',\n",
      "                            'collapsed': False,\n",
      "                            'input': '# Python comment',\n",
      "                            'language': 'python',\n",
      "                            'metadata': {},\n",
      "                            'outputs': [],\n",
      "                            'prompt_number': 42}],\n",
      "                 'metadata': {}}]}\n"
     ]
    }
   ],
   "source": [
    "# collapse_output\n",
    "# Note that it is automatically converted to the old v3 specification!\n",
    "v3_nb = nbformat.read(path, as_version=3) \n",
    "# If you like you can take a look at the older v3 notebook schema:\n",
    "pprint(v3_nb)"
   ]
  },
  {
   "cell_type": "markdown",
   "metadata": {},
   "source": []
  },
  {
   "cell_type": "markdown",
   "metadata": {},
   "source": [
    "Congratulations! 🎉\n",
    "\n",
    "Now you know the Jupyter notebooks basics!\n",
    "Using the `nbformat` library you know how to:\n",
    "- read notebooks\n",
    "- dynamically create notebooks\n",
    "- convert between notebooks specification versions\n",
    "\n",
    "In the next post, we will take a closer look at the next important Jupyter library: `nbconvert`."
   ]
  },
  {
   "cell_type": "code",
   "execution_count": null,
   "metadata": {},
   "outputs": [],
   "source": []
  }
 ],
 "metadata": {
  "kernelspec": {
   "display_name": "Python 3 (ipykernel)",
   "language": "python",
   "name": "python3"
  },
  "language_info": {
   "codemirror_mode": {
    "name": "ipython",
    "version": 3
   },
   "file_extension": ".py",
   "mimetype": "text/x-python",
   "name": "python",
   "nbconvert_exporter": "python",
   "pygments_lexer": "ipython3",
   "version": "3.8.12"
  }
 },
 "nbformat": 4,
 "nbformat_minor": 4
}
