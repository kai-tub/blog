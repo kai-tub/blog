{
 "cells": [
  {
   "cell_type": "markdown",
   "id": "cd92d15e",
   "metadata": {},
   "source": [
    "# Nbconvert\n",
    "> description\n",
    "\n",
    "- status: draft"
   ]
  },
  {
   "cell_type": "markdown",
   "id": "dd54eaee-d5b3-4c99-8bc6-02aa5b51821d",
   "metadata": {},
   "source": [
    "The _official_ tool for converting notebooks from the [jupyter team](https://jupyter.org/about) is the [nbconvert][nbconvert-docs] library.\n",
    "\n",
    "[nbconvert-docs]: https://nbconvert.readthedocs.io/en/latest/index.html\n",
    "\n",
    "The general pipeline of nbconvert is as follows:\n",
    "\n",
    "1. Read the notebook file and ensure that it is a valid notebook\n",
    "1. Apply [Preprocessors][preprocessor-docs] to the notebook\n",
    "1. Load a [Template][template-docs] which defines how the processed notebook should be formatted\n",
    "\n",
    "All of these steps are combined into one component: the [Exporter][exporter-docs] class.\n",
    "The [Exporter][exporter-docs] can be distributed as a Python package on [PyPI](https://pypi.org/) and made available for other projects.\n",
    "Since we want to have full control over our jupyter2blog pipeline, we should aim at creating a custom exporter.\n",
    "\n",
    "[preprocessor-docs]: https://nbconvert.readthedocs.io/en/latest/architecture.html#preprocessors\n",
    "[template-docs]: https://nbconvert.readthedocs.io/en/latest/architecture.html#templates\n",
    "[exporter-docs]: https://nbconvert.readthedocs.io/en/latest/architecture.html#exporters"
   ]
  }
 ],
 "metadata": {
  "kernelspec": {
   "display_name": "Python 3 (ipykernel)",
   "language": "python",
   "name": "python3"
  },
  "language_info": {
   "codemirror_mode": {
    "name": "ipython",
    "version": 3
   },
   "file_extension": ".py",
   "mimetype": "text/x-python",
   "name": "python",
   "nbconvert_exporter": "python",
   "pygments_lexer": "ipython3",
   "version": "3.9.7"
  },
  "nikola": {
   "category": "",
   "date": "2021-11-09 10:43:33 UTC+01:00",
   "description": "",
   "link": "",
   "slug": "nbconvert",
   "tags": "",
   "title": "nbconvert",
   "type": "text"
  }
 },
 "nbformat": 4,
 "nbformat_minor": 5
}
